{
  "nbformat": 4,
  "nbformat_minor": 0,
  "metadata": {
    "kernelspec": {
      "display_name": "Python 3",
      "language": "python",
      "name": "python3"
    },
    "language_info": {
      "codemirror_mode": {
        "name": "ipython",
        "version": 3
      },
      "file_extension": ".py",
      "mimetype": "text/x-python",
      "name": "python",
      "nbconvert_exporter": "python",
      "pygments_lexer": "ipython3",
      "version": "3.8.5"
    },
    "colab": {
      "name": "ResNet18xMNIST.ipynb",
      "provenance": [],
      "collapsed_sections": [],
      "include_colab_link": true
    },
    "accelerator": "GPU",
    "widgets": {
      "application/vnd.jupyter.widget-state+json": {
        "f88ca8444dd74a6180213f2ae4e21358": {
          "model_module": "@jupyter-widgets/controls",
          "model_name": "HBoxModel",
          "state": {
            "_view_name": "HBoxView",
            "_dom_classes": [],
            "_model_name": "HBoxModel",
            "_view_module": "@jupyter-widgets/controls",
            "_model_module_version": "1.5.0",
            "_view_count": null,
            "_view_module_version": "1.5.0",
            "box_style": "",
            "layout": "IPY_MODEL_21407b9564d94a009bca24cef692aa30",
            "_model_module": "@jupyter-widgets/controls",
            "children": [
              "IPY_MODEL_ecf5d2fc1e8f49509cbc7f00ac81fea5",
              "IPY_MODEL_5af3081683664e2aa893f340f115a7c5"
            ]
          }
        },
        "21407b9564d94a009bca24cef692aa30": {
          "model_module": "@jupyter-widgets/base",
          "model_name": "LayoutModel",
          "state": {
            "_view_name": "LayoutView",
            "grid_template_rows": null,
            "right": null,
            "justify_content": null,
            "_view_module": "@jupyter-widgets/base",
            "overflow": null,
            "_model_module_version": "1.2.0",
            "_view_count": null,
            "flex_flow": null,
            "width": null,
            "min_width": null,
            "border": null,
            "align_items": null,
            "bottom": null,
            "_model_module": "@jupyter-widgets/base",
            "top": null,
            "grid_column": null,
            "overflow_y": null,
            "overflow_x": null,
            "grid_auto_flow": null,
            "grid_area": null,
            "grid_template_columns": null,
            "flex": null,
            "_model_name": "LayoutModel",
            "justify_items": null,
            "grid_row": null,
            "max_height": null,
            "align_content": null,
            "visibility": null,
            "align_self": null,
            "height": null,
            "min_height": null,
            "padding": null,
            "grid_auto_rows": null,
            "grid_gap": null,
            "max_width": null,
            "order": null,
            "_view_module_version": "1.2.0",
            "grid_template_areas": null,
            "object_position": null,
            "object_fit": null,
            "grid_auto_columns": null,
            "margin": null,
            "display": null,
            "left": null
          }
        },
        "ecf5d2fc1e8f49509cbc7f00ac81fea5": {
          "model_module": "@jupyter-widgets/controls",
          "model_name": "FloatProgressModel",
          "state": {
            "_view_name": "ProgressView",
            "style": "IPY_MODEL_efdf036f426844f493c788ce0f6fff5e",
            "_dom_classes": [],
            "description": "",
            "_model_name": "FloatProgressModel",
            "bar_style": "success",
            "max": 9912422,
            "_view_module": "@jupyter-widgets/controls",
            "_model_module_version": "1.5.0",
            "value": 9912422,
            "_view_count": null,
            "_view_module_version": "1.5.0",
            "orientation": "horizontal",
            "min": 0,
            "description_tooltip": null,
            "_model_module": "@jupyter-widgets/controls",
            "layout": "IPY_MODEL_a7bba75d1a8c49709fdf47dcc9ebdb85"
          }
        },
        "5af3081683664e2aa893f340f115a7c5": {
          "model_module": "@jupyter-widgets/controls",
          "model_name": "HTMLModel",
          "state": {
            "_view_name": "HTMLView",
            "style": "IPY_MODEL_2eae67fa1862438981d636dcbfab3223",
            "_dom_classes": [],
            "description": "",
            "_model_name": "HTMLModel",
            "placeholder": "​",
            "_view_module": "@jupyter-widgets/controls",
            "_model_module_version": "1.5.0",
            "value": " 9913344/? [00:00&lt;00:00, 15527317.37it/s]",
            "_view_count": null,
            "_view_module_version": "1.5.0",
            "description_tooltip": null,
            "_model_module": "@jupyter-widgets/controls",
            "layout": "IPY_MODEL_e2b7e6e96c774c4ea470a86481867786"
          }
        },
        "efdf036f426844f493c788ce0f6fff5e": {
          "model_module": "@jupyter-widgets/controls",
          "model_name": "ProgressStyleModel",
          "state": {
            "_view_name": "StyleView",
            "_model_name": "ProgressStyleModel",
            "description_width": "initial",
            "_view_module": "@jupyter-widgets/base",
            "_model_module_version": "1.5.0",
            "_view_count": null,
            "_view_module_version": "1.2.0",
            "bar_color": null,
            "_model_module": "@jupyter-widgets/controls"
          }
        },
        "a7bba75d1a8c49709fdf47dcc9ebdb85": {
          "model_module": "@jupyter-widgets/base",
          "model_name": "LayoutModel",
          "state": {
            "_view_name": "LayoutView",
            "grid_template_rows": null,
            "right": null,
            "justify_content": null,
            "_view_module": "@jupyter-widgets/base",
            "overflow": null,
            "_model_module_version": "1.2.0",
            "_view_count": null,
            "flex_flow": null,
            "width": null,
            "min_width": null,
            "border": null,
            "align_items": null,
            "bottom": null,
            "_model_module": "@jupyter-widgets/base",
            "top": null,
            "grid_column": null,
            "overflow_y": null,
            "overflow_x": null,
            "grid_auto_flow": null,
            "grid_area": null,
            "grid_template_columns": null,
            "flex": null,
            "_model_name": "LayoutModel",
            "justify_items": null,
            "grid_row": null,
            "max_height": null,
            "align_content": null,
            "visibility": null,
            "align_self": null,
            "height": null,
            "min_height": null,
            "padding": null,
            "grid_auto_rows": null,
            "grid_gap": null,
            "max_width": null,
            "order": null,
            "_view_module_version": "1.2.0",
            "grid_template_areas": null,
            "object_position": null,
            "object_fit": null,
            "grid_auto_columns": null,
            "margin": null,
            "display": null,
            "left": null
          }
        },
        "2eae67fa1862438981d636dcbfab3223": {
          "model_module": "@jupyter-widgets/controls",
          "model_name": "DescriptionStyleModel",
          "state": {
            "_view_name": "StyleView",
            "_model_name": "DescriptionStyleModel",
            "description_width": "",
            "_view_module": "@jupyter-widgets/base",
            "_model_module_version": "1.5.0",
            "_view_count": null,
            "_view_module_version": "1.2.0",
            "_model_module": "@jupyter-widgets/controls"
          }
        },
        "e2b7e6e96c774c4ea470a86481867786": {
          "model_module": "@jupyter-widgets/base",
          "model_name": "LayoutModel",
          "state": {
            "_view_name": "LayoutView",
            "grid_template_rows": null,
            "right": null,
            "justify_content": null,
            "_view_module": "@jupyter-widgets/base",
            "overflow": null,
            "_model_module_version": "1.2.0",
            "_view_count": null,
            "flex_flow": null,
            "width": null,
            "min_width": null,
            "border": null,
            "align_items": null,
            "bottom": null,
            "_model_module": "@jupyter-widgets/base",
            "top": null,
            "grid_column": null,
            "overflow_y": null,
            "overflow_x": null,
            "grid_auto_flow": null,
            "grid_area": null,
            "grid_template_columns": null,
            "flex": null,
            "_model_name": "LayoutModel",
            "justify_items": null,
            "grid_row": null,
            "max_height": null,
            "align_content": null,
            "visibility": null,
            "align_self": null,
            "height": null,
            "min_height": null,
            "padding": null,
            "grid_auto_rows": null,
            "grid_gap": null,
            "max_width": null,
            "order": null,
            "_view_module_version": "1.2.0",
            "grid_template_areas": null,
            "object_position": null,
            "object_fit": null,
            "grid_auto_columns": null,
            "margin": null,
            "display": null,
            "left": null
          }
        },
        "8539b3f68c914b25bcb4543460c4e07d": {
          "model_module": "@jupyter-widgets/controls",
          "model_name": "HBoxModel",
          "state": {
            "_view_name": "HBoxView",
            "_dom_classes": [],
            "_model_name": "HBoxModel",
            "_view_module": "@jupyter-widgets/controls",
            "_model_module_version": "1.5.0",
            "_view_count": null,
            "_view_module_version": "1.5.0",
            "box_style": "",
            "layout": "IPY_MODEL_c2e2d57a33fd49b6a4e0f744700458da",
            "_model_module": "@jupyter-widgets/controls",
            "children": [
              "IPY_MODEL_0198ab6cee224f71894ce4bf3852f1e2",
              "IPY_MODEL_a8351c8d0e444829abec9700c17e525c"
            ]
          }
        },
        "c2e2d57a33fd49b6a4e0f744700458da": {
          "model_module": "@jupyter-widgets/base",
          "model_name": "LayoutModel",
          "state": {
            "_view_name": "LayoutView",
            "grid_template_rows": null,
            "right": null,
            "justify_content": null,
            "_view_module": "@jupyter-widgets/base",
            "overflow": null,
            "_model_module_version": "1.2.0",
            "_view_count": null,
            "flex_flow": null,
            "width": null,
            "min_width": null,
            "border": null,
            "align_items": null,
            "bottom": null,
            "_model_module": "@jupyter-widgets/base",
            "top": null,
            "grid_column": null,
            "overflow_y": null,
            "overflow_x": null,
            "grid_auto_flow": null,
            "grid_area": null,
            "grid_template_columns": null,
            "flex": null,
            "_model_name": "LayoutModel",
            "justify_items": null,
            "grid_row": null,
            "max_height": null,
            "align_content": null,
            "visibility": null,
            "align_self": null,
            "height": null,
            "min_height": null,
            "padding": null,
            "grid_auto_rows": null,
            "grid_gap": null,
            "max_width": null,
            "order": null,
            "_view_module_version": "1.2.0",
            "grid_template_areas": null,
            "object_position": null,
            "object_fit": null,
            "grid_auto_columns": null,
            "margin": null,
            "display": null,
            "left": null
          }
        },
        "0198ab6cee224f71894ce4bf3852f1e2": {
          "model_module": "@jupyter-widgets/controls",
          "model_name": "FloatProgressModel",
          "state": {
            "_view_name": "ProgressView",
            "style": "IPY_MODEL_78fa8e223b9c419c8c90d7b8c0f0ae14",
            "_dom_classes": [],
            "description": "",
            "_model_name": "FloatProgressModel",
            "bar_style": "success",
            "max": 28881,
            "_view_module": "@jupyter-widgets/controls",
            "_model_module_version": "1.5.0",
            "value": 28881,
            "_view_count": null,
            "_view_module_version": "1.5.0",
            "orientation": "horizontal",
            "min": 0,
            "description_tooltip": null,
            "_model_module": "@jupyter-widgets/controls",
            "layout": "IPY_MODEL_4e3621a323ab4b79b40bb6dc0777fb8d"
          }
        },
        "a8351c8d0e444829abec9700c17e525c": {
          "model_module": "@jupyter-widgets/controls",
          "model_name": "HTMLModel",
          "state": {
            "_view_name": "HTMLView",
            "style": "IPY_MODEL_d6a077195b7342e79292579141069e68",
            "_dom_classes": [],
            "description": "",
            "_model_name": "HTMLModel",
            "placeholder": "​",
            "_view_module": "@jupyter-widgets/controls",
            "_model_module_version": "1.5.0",
            "value": " 29696/? [01:48&lt;00:00, 272.55it/s]",
            "_view_count": null,
            "_view_module_version": "1.5.0",
            "description_tooltip": null,
            "_model_module": "@jupyter-widgets/controls",
            "layout": "IPY_MODEL_5caa5e7ab43b488a91d754ec1de43051"
          }
        },
        "78fa8e223b9c419c8c90d7b8c0f0ae14": {
          "model_module": "@jupyter-widgets/controls",
          "model_name": "ProgressStyleModel",
          "state": {
            "_view_name": "StyleView",
            "_model_name": "ProgressStyleModel",
            "description_width": "initial",
            "_view_module": "@jupyter-widgets/base",
            "_model_module_version": "1.5.0",
            "_view_count": null,
            "_view_module_version": "1.2.0",
            "bar_color": null,
            "_model_module": "@jupyter-widgets/controls"
          }
        },
        "4e3621a323ab4b79b40bb6dc0777fb8d": {
          "model_module": "@jupyter-widgets/base",
          "model_name": "LayoutModel",
          "state": {
            "_view_name": "LayoutView",
            "grid_template_rows": null,
            "right": null,
            "justify_content": null,
            "_view_module": "@jupyter-widgets/base",
            "overflow": null,
            "_model_module_version": "1.2.0",
            "_view_count": null,
            "flex_flow": null,
            "width": null,
            "min_width": null,
            "border": null,
            "align_items": null,
            "bottom": null,
            "_model_module": "@jupyter-widgets/base",
            "top": null,
            "grid_column": null,
            "overflow_y": null,
            "overflow_x": null,
            "grid_auto_flow": null,
            "grid_area": null,
            "grid_template_columns": null,
            "flex": null,
            "_model_name": "LayoutModel",
            "justify_items": null,
            "grid_row": null,
            "max_height": null,
            "align_content": null,
            "visibility": null,
            "align_self": null,
            "height": null,
            "min_height": null,
            "padding": null,
            "grid_auto_rows": null,
            "grid_gap": null,
            "max_width": null,
            "order": null,
            "_view_module_version": "1.2.0",
            "grid_template_areas": null,
            "object_position": null,
            "object_fit": null,
            "grid_auto_columns": null,
            "margin": null,
            "display": null,
            "left": null
          }
        },
        "d6a077195b7342e79292579141069e68": {
          "model_module": "@jupyter-widgets/controls",
          "model_name": "DescriptionStyleModel",
          "state": {
            "_view_name": "StyleView",
            "_model_name": "DescriptionStyleModel",
            "description_width": "",
            "_view_module": "@jupyter-widgets/base",
            "_model_module_version": "1.5.0",
            "_view_count": null,
            "_view_module_version": "1.2.0",
            "_model_module": "@jupyter-widgets/controls"
          }
        },
        "5caa5e7ab43b488a91d754ec1de43051": {
          "model_module": "@jupyter-widgets/base",
          "model_name": "LayoutModel",
          "state": {
            "_view_name": "LayoutView",
            "grid_template_rows": null,
            "right": null,
            "justify_content": null,
            "_view_module": "@jupyter-widgets/base",
            "overflow": null,
            "_model_module_version": "1.2.0",
            "_view_count": null,
            "flex_flow": null,
            "width": null,
            "min_width": null,
            "border": null,
            "align_items": null,
            "bottom": null,
            "_model_module": "@jupyter-widgets/base",
            "top": null,
            "grid_column": null,
            "overflow_y": null,
            "overflow_x": null,
            "grid_auto_flow": null,
            "grid_area": null,
            "grid_template_columns": null,
            "flex": null,
            "_model_name": "LayoutModel",
            "justify_items": null,
            "grid_row": null,
            "max_height": null,
            "align_content": null,
            "visibility": null,
            "align_self": null,
            "height": null,
            "min_height": null,
            "padding": null,
            "grid_auto_rows": null,
            "grid_gap": null,
            "max_width": null,
            "order": null,
            "_view_module_version": "1.2.0",
            "grid_template_areas": null,
            "object_position": null,
            "object_fit": null,
            "grid_auto_columns": null,
            "margin": null,
            "display": null,
            "left": null
          }
        },
        "4fb9524be02a46239baff90f21dcd1b6": {
          "model_module": "@jupyter-widgets/controls",
          "model_name": "HBoxModel",
          "state": {
            "_view_name": "HBoxView",
            "_dom_classes": [],
            "_model_name": "HBoxModel",
            "_view_module": "@jupyter-widgets/controls",
            "_model_module_version": "1.5.0",
            "_view_count": null,
            "_view_module_version": "1.5.0",
            "box_style": "",
            "layout": "IPY_MODEL_c98ecc6219f34c61bc16bb4774428cac",
            "_model_module": "@jupyter-widgets/controls",
            "children": [
              "IPY_MODEL_8ef04241288345efbdb11819f94bf2c8",
              "IPY_MODEL_79f3db7ae5bd4507b2e746ac514ec394"
            ]
          }
        },
        "c98ecc6219f34c61bc16bb4774428cac": {
          "model_module": "@jupyter-widgets/base",
          "model_name": "LayoutModel",
          "state": {
            "_view_name": "LayoutView",
            "grid_template_rows": null,
            "right": null,
            "justify_content": null,
            "_view_module": "@jupyter-widgets/base",
            "overflow": null,
            "_model_module_version": "1.2.0",
            "_view_count": null,
            "flex_flow": null,
            "width": null,
            "min_width": null,
            "border": null,
            "align_items": null,
            "bottom": null,
            "_model_module": "@jupyter-widgets/base",
            "top": null,
            "grid_column": null,
            "overflow_y": null,
            "overflow_x": null,
            "grid_auto_flow": null,
            "grid_area": null,
            "grid_template_columns": null,
            "flex": null,
            "_model_name": "LayoutModel",
            "justify_items": null,
            "grid_row": null,
            "max_height": null,
            "align_content": null,
            "visibility": null,
            "align_self": null,
            "height": null,
            "min_height": null,
            "padding": null,
            "grid_auto_rows": null,
            "grid_gap": null,
            "max_width": null,
            "order": null,
            "_view_module_version": "1.2.0",
            "grid_template_areas": null,
            "object_position": null,
            "object_fit": null,
            "grid_auto_columns": null,
            "margin": null,
            "display": null,
            "left": null
          }
        },
        "8ef04241288345efbdb11819f94bf2c8": {
          "model_module": "@jupyter-widgets/controls",
          "model_name": "FloatProgressModel",
          "state": {
            "_view_name": "ProgressView",
            "style": "IPY_MODEL_9d5252bbdef4485cb72a2fbac2d567ff",
            "_dom_classes": [],
            "description": "",
            "_model_name": "FloatProgressModel",
            "bar_style": "success",
            "max": 1648877,
            "_view_module": "@jupyter-widgets/controls",
            "_model_module_version": "1.5.0",
            "value": 1648877,
            "_view_count": null,
            "_view_module_version": "1.5.0",
            "orientation": "horizontal",
            "min": 0,
            "description_tooltip": null,
            "_model_module": "@jupyter-widgets/controls",
            "layout": "IPY_MODEL_dd83d31086dd46a89c28a6bd1b8d05ec"
          }
        },
        "79f3db7ae5bd4507b2e746ac514ec394": {
          "model_module": "@jupyter-widgets/controls",
          "model_name": "HTMLModel",
          "state": {
            "_view_name": "HTMLView",
            "style": "IPY_MODEL_146e30b7a4274712bb2ea86d69430ce6",
            "_dom_classes": [],
            "description": "",
            "_model_name": "HTMLModel",
            "placeholder": "​",
            "_view_module": "@jupyter-widgets/controls",
            "_model_module_version": "1.5.0",
            "value": " 1649664/? [00:25&lt;00:00, 65066.76it/s]",
            "_view_count": null,
            "_view_module_version": "1.5.0",
            "description_tooltip": null,
            "_model_module": "@jupyter-widgets/controls",
            "layout": "IPY_MODEL_d58e80ea05af46968008811baafe1ad8"
          }
        },
        "9d5252bbdef4485cb72a2fbac2d567ff": {
          "model_module": "@jupyter-widgets/controls",
          "model_name": "ProgressStyleModel",
          "state": {
            "_view_name": "StyleView",
            "_model_name": "ProgressStyleModel",
            "description_width": "initial",
            "_view_module": "@jupyter-widgets/base",
            "_model_module_version": "1.5.0",
            "_view_count": null,
            "_view_module_version": "1.2.0",
            "bar_color": null,
            "_model_module": "@jupyter-widgets/controls"
          }
        },
        "dd83d31086dd46a89c28a6bd1b8d05ec": {
          "model_module": "@jupyter-widgets/base",
          "model_name": "LayoutModel",
          "state": {
            "_view_name": "LayoutView",
            "grid_template_rows": null,
            "right": null,
            "justify_content": null,
            "_view_module": "@jupyter-widgets/base",
            "overflow": null,
            "_model_module_version": "1.2.0",
            "_view_count": null,
            "flex_flow": null,
            "width": null,
            "min_width": null,
            "border": null,
            "align_items": null,
            "bottom": null,
            "_model_module": "@jupyter-widgets/base",
            "top": null,
            "grid_column": null,
            "overflow_y": null,
            "overflow_x": null,
            "grid_auto_flow": null,
            "grid_area": null,
            "grid_template_columns": null,
            "flex": null,
            "_model_name": "LayoutModel",
            "justify_items": null,
            "grid_row": null,
            "max_height": null,
            "align_content": null,
            "visibility": null,
            "align_self": null,
            "height": null,
            "min_height": null,
            "padding": null,
            "grid_auto_rows": null,
            "grid_gap": null,
            "max_width": null,
            "order": null,
            "_view_module_version": "1.2.0",
            "grid_template_areas": null,
            "object_position": null,
            "object_fit": null,
            "grid_auto_columns": null,
            "margin": null,
            "display": null,
            "left": null
          }
        },
        "146e30b7a4274712bb2ea86d69430ce6": {
          "model_module": "@jupyter-widgets/controls",
          "model_name": "DescriptionStyleModel",
          "state": {
            "_view_name": "StyleView",
            "_model_name": "DescriptionStyleModel",
            "description_width": "",
            "_view_module": "@jupyter-widgets/base",
            "_model_module_version": "1.5.0",
            "_view_count": null,
            "_view_module_version": "1.2.0",
            "_model_module": "@jupyter-widgets/controls"
          }
        },
        "d58e80ea05af46968008811baafe1ad8": {
          "model_module": "@jupyter-widgets/base",
          "model_name": "LayoutModel",
          "state": {
            "_view_name": "LayoutView",
            "grid_template_rows": null,
            "right": null,
            "justify_content": null,
            "_view_module": "@jupyter-widgets/base",
            "overflow": null,
            "_model_module_version": "1.2.0",
            "_view_count": null,
            "flex_flow": null,
            "width": null,
            "min_width": null,
            "border": null,
            "align_items": null,
            "bottom": null,
            "_model_module": "@jupyter-widgets/base",
            "top": null,
            "grid_column": null,
            "overflow_y": null,
            "overflow_x": null,
            "grid_auto_flow": null,
            "grid_area": null,
            "grid_template_columns": null,
            "flex": null,
            "_model_name": "LayoutModel",
            "justify_items": null,
            "grid_row": null,
            "max_height": null,
            "align_content": null,
            "visibility": null,
            "align_self": null,
            "height": null,
            "min_height": null,
            "padding": null,
            "grid_auto_rows": null,
            "grid_gap": null,
            "max_width": null,
            "order": null,
            "_view_module_version": "1.2.0",
            "grid_template_areas": null,
            "object_position": null,
            "object_fit": null,
            "grid_auto_columns": null,
            "margin": null,
            "display": null,
            "left": null
          }
        },
        "df4e1ebd21254e90afb69155981d4539": {
          "model_module": "@jupyter-widgets/controls",
          "model_name": "HBoxModel",
          "state": {
            "_view_name": "HBoxView",
            "_dom_classes": [],
            "_model_name": "HBoxModel",
            "_view_module": "@jupyter-widgets/controls",
            "_model_module_version": "1.5.0",
            "_view_count": null,
            "_view_module_version": "1.5.0",
            "box_style": "",
            "layout": "IPY_MODEL_f794f2aa3b054606b2ec70ca2f94f7fc",
            "_model_module": "@jupyter-widgets/controls",
            "children": [
              "IPY_MODEL_c3db79e51db741b1a9013e02c67a7bdf",
              "IPY_MODEL_c429bc5e63b04d5699882df60c81954d"
            ]
          }
        },
        "f794f2aa3b054606b2ec70ca2f94f7fc": {
          "model_module": "@jupyter-widgets/base",
          "model_name": "LayoutModel",
          "state": {
            "_view_name": "LayoutView",
            "grid_template_rows": null,
            "right": null,
            "justify_content": null,
            "_view_module": "@jupyter-widgets/base",
            "overflow": null,
            "_model_module_version": "1.2.0",
            "_view_count": null,
            "flex_flow": null,
            "width": null,
            "min_width": null,
            "border": null,
            "align_items": null,
            "bottom": null,
            "_model_module": "@jupyter-widgets/base",
            "top": null,
            "grid_column": null,
            "overflow_y": null,
            "overflow_x": null,
            "grid_auto_flow": null,
            "grid_area": null,
            "grid_template_columns": null,
            "flex": null,
            "_model_name": "LayoutModel",
            "justify_items": null,
            "grid_row": null,
            "max_height": null,
            "align_content": null,
            "visibility": null,
            "align_self": null,
            "height": null,
            "min_height": null,
            "padding": null,
            "grid_auto_rows": null,
            "grid_gap": null,
            "max_width": null,
            "order": null,
            "_view_module_version": "1.2.0",
            "grid_template_areas": null,
            "object_position": null,
            "object_fit": null,
            "grid_auto_columns": null,
            "margin": null,
            "display": null,
            "left": null
          }
        },
        "c3db79e51db741b1a9013e02c67a7bdf": {
          "model_module": "@jupyter-widgets/controls",
          "model_name": "FloatProgressModel",
          "state": {
            "_view_name": "ProgressView",
            "style": "IPY_MODEL_d76969f3d363435682f5fc02e6f4d649",
            "_dom_classes": [],
            "description": "",
            "_model_name": "FloatProgressModel",
            "bar_style": "success",
            "max": 4542,
            "_view_module": "@jupyter-widgets/controls",
            "_model_module_version": "1.5.0",
            "value": 4542,
            "_view_count": null,
            "_view_module_version": "1.5.0",
            "orientation": "horizontal",
            "min": 0,
            "description_tooltip": null,
            "_model_module": "@jupyter-widgets/controls",
            "layout": "IPY_MODEL_fec756b583e04a46bfb6298b9d891778"
          }
        },
        "c429bc5e63b04d5699882df60c81954d": {
          "model_module": "@jupyter-widgets/controls",
          "model_name": "HTMLModel",
          "state": {
            "_view_name": "HTMLView",
            "style": "IPY_MODEL_a6e404c7df8944528737970fdafc0be2",
            "_dom_classes": [],
            "description": "",
            "_model_name": "HTMLModel",
            "placeholder": "​",
            "_view_module": "@jupyter-widgets/controls",
            "_model_module_version": "1.5.0",
            "value": " 5120/? [00:24&lt;00:00, 206.24it/s]",
            "_view_count": null,
            "_view_module_version": "1.5.0",
            "description_tooltip": null,
            "_model_module": "@jupyter-widgets/controls",
            "layout": "IPY_MODEL_2f5f795969dc483e9625d49300391a9e"
          }
        },
        "d76969f3d363435682f5fc02e6f4d649": {
          "model_module": "@jupyter-widgets/controls",
          "model_name": "ProgressStyleModel",
          "state": {
            "_view_name": "StyleView",
            "_model_name": "ProgressStyleModel",
            "description_width": "initial",
            "_view_module": "@jupyter-widgets/base",
            "_model_module_version": "1.5.0",
            "_view_count": null,
            "_view_module_version": "1.2.0",
            "bar_color": null,
            "_model_module": "@jupyter-widgets/controls"
          }
        },
        "fec756b583e04a46bfb6298b9d891778": {
          "model_module": "@jupyter-widgets/base",
          "model_name": "LayoutModel",
          "state": {
            "_view_name": "LayoutView",
            "grid_template_rows": null,
            "right": null,
            "justify_content": null,
            "_view_module": "@jupyter-widgets/base",
            "overflow": null,
            "_model_module_version": "1.2.0",
            "_view_count": null,
            "flex_flow": null,
            "width": null,
            "min_width": null,
            "border": null,
            "align_items": null,
            "bottom": null,
            "_model_module": "@jupyter-widgets/base",
            "top": null,
            "grid_column": null,
            "overflow_y": null,
            "overflow_x": null,
            "grid_auto_flow": null,
            "grid_area": null,
            "grid_template_columns": null,
            "flex": null,
            "_model_name": "LayoutModel",
            "justify_items": null,
            "grid_row": null,
            "max_height": null,
            "align_content": null,
            "visibility": null,
            "align_self": null,
            "height": null,
            "min_height": null,
            "padding": null,
            "grid_auto_rows": null,
            "grid_gap": null,
            "max_width": null,
            "order": null,
            "_view_module_version": "1.2.0",
            "grid_template_areas": null,
            "object_position": null,
            "object_fit": null,
            "grid_auto_columns": null,
            "margin": null,
            "display": null,
            "left": null
          }
        },
        "a6e404c7df8944528737970fdafc0be2": {
          "model_module": "@jupyter-widgets/controls",
          "model_name": "DescriptionStyleModel",
          "state": {
            "_view_name": "StyleView",
            "_model_name": "DescriptionStyleModel",
            "description_width": "",
            "_view_module": "@jupyter-widgets/base",
            "_model_module_version": "1.5.0",
            "_view_count": null,
            "_view_module_version": "1.2.0",
            "_model_module": "@jupyter-widgets/controls"
          }
        },
        "2f5f795969dc483e9625d49300391a9e": {
          "model_module": "@jupyter-widgets/base",
          "model_name": "LayoutModel",
          "state": {
            "_view_name": "LayoutView",
            "grid_template_rows": null,
            "right": null,
            "justify_content": null,
            "_view_module": "@jupyter-widgets/base",
            "overflow": null,
            "_model_module_version": "1.2.0",
            "_view_count": null,
            "flex_flow": null,
            "width": null,
            "min_width": null,
            "border": null,
            "align_items": null,
            "bottom": null,
            "_model_module": "@jupyter-widgets/base",
            "top": null,
            "grid_column": null,
            "overflow_y": null,
            "overflow_x": null,
            "grid_auto_flow": null,
            "grid_area": null,
            "grid_template_columns": null,
            "flex": null,
            "_model_name": "LayoutModel",
            "justify_items": null,
            "grid_row": null,
            "max_height": null,
            "align_content": null,
            "visibility": null,
            "align_self": null,
            "height": null,
            "min_height": null,
            "padding": null,
            "grid_auto_rows": null,
            "grid_gap": null,
            "max_width": null,
            "order": null,
            "_view_module_version": "1.2.0",
            "grid_template_areas": null,
            "object_position": null,
            "object_fit": null,
            "grid_auto_columns": null,
            "margin": null,
            "display": null,
            "left": null
          }
        },
        "04cc6cd7770641fbbdd66d2782e66a0f": {
          "model_module": "@jupyter-widgets/controls",
          "model_name": "HBoxModel",
          "state": {
            "_view_name": "HBoxView",
            "_dom_classes": [],
            "_model_name": "HBoxModel",
            "_view_module": "@jupyter-widgets/controls",
            "_model_module_version": "1.5.0",
            "_view_count": null,
            "_view_module_version": "1.5.0",
            "box_style": "",
            "layout": "IPY_MODEL_bc1ea87ed0a7451882bc9ddc61a2777b",
            "_model_module": "@jupyter-widgets/controls",
            "children": [
              "IPY_MODEL_881ed9757e6e4573a670b2cf16c90032",
              "IPY_MODEL_f4e8a48a8ea34cbeb28437856e726765"
            ]
          }
        },
        "bc1ea87ed0a7451882bc9ddc61a2777b": {
          "model_module": "@jupyter-widgets/base",
          "model_name": "LayoutModel",
          "state": {
            "_view_name": "LayoutView",
            "grid_template_rows": null,
            "right": null,
            "justify_content": null,
            "_view_module": "@jupyter-widgets/base",
            "overflow": null,
            "_model_module_version": "1.2.0",
            "_view_count": null,
            "flex_flow": null,
            "width": null,
            "min_width": null,
            "border": null,
            "align_items": null,
            "bottom": null,
            "_model_module": "@jupyter-widgets/base",
            "top": null,
            "grid_column": null,
            "overflow_y": null,
            "overflow_x": null,
            "grid_auto_flow": null,
            "grid_area": null,
            "grid_template_columns": null,
            "flex": null,
            "_model_name": "LayoutModel",
            "justify_items": null,
            "grid_row": null,
            "max_height": null,
            "align_content": null,
            "visibility": null,
            "align_self": null,
            "height": null,
            "min_height": null,
            "padding": null,
            "grid_auto_rows": null,
            "grid_gap": null,
            "max_width": null,
            "order": null,
            "_view_module_version": "1.2.0",
            "grid_template_areas": null,
            "object_position": null,
            "object_fit": null,
            "grid_auto_columns": null,
            "margin": null,
            "display": null,
            "left": null
          }
        },
        "881ed9757e6e4573a670b2cf16c90032": {
          "model_module": "@jupyter-widgets/controls",
          "model_name": "FloatProgressModel",
          "state": {
            "_view_name": "ProgressView",
            "style": "IPY_MODEL_e47e081fbb1d44dbb27d430cc1b16223",
            "_dom_classes": [],
            "description": "100%",
            "_model_name": "FloatProgressModel",
            "bar_style": "success",
            "max": 46830571,
            "_view_module": "@jupyter-widgets/controls",
            "_model_module_version": "1.5.0",
            "value": 46830571,
            "_view_count": null,
            "_view_module_version": "1.5.0",
            "orientation": "horizontal",
            "min": 0,
            "description_tooltip": null,
            "_model_module": "@jupyter-widgets/controls",
            "layout": "IPY_MODEL_9910d4620fe2473fbb2e31ac3ab82add"
          }
        },
        "f4e8a48a8ea34cbeb28437856e726765": {
          "model_module": "@jupyter-widgets/controls",
          "model_name": "HTMLModel",
          "state": {
            "_view_name": "HTMLView",
            "style": "IPY_MODEL_34b6a379d41244d087bad204e8b31841",
            "_dom_classes": [],
            "description": "",
            "_model_name": "HTMLModel",
            "placeholder": "​",
            "_view_module": "@jupyter-widgets/controls",
            "_model_module_version": "1.5.0",
            "value": " 44.7M/44.7M [00:01&lt;00:00, 42.9MB/s]",
            "_view_count": null,
            "_view_module_version": "1.5.0",
            "description_tooltip": null,
            "_model_module": "@jupyter-widgets/controls",
            "layout": "IPY_MODEL_0cbaecb27f914e5c8dc20c2e2d19bee4"
          }
        },
        "e47e081fbb1d44dbb27d430cc1b16223": {
          "model_module": "@jupyter-widgets/controls",
          "model_name": "ProgressStyleModel",
          "state": {
            "_view_name": "StyleView",
            "_model_name": "ProgressStyleModel",
            "description_width": "initial",
            "_view_module": "@jupyter-widgets/base",
            "_model_module_version": "1.5.0",
            "_view_count": null,
            "_view_module_version": "1.2.0",
            "bar_color": null,
            "_model_module": "@jupyter-widgets/controls"
          }
        },
        "9910d4620fe2473fbb2e31ac3ab82add": {
          "model_module": "@jupyter-widgets/base",
          "model_name": "LayoutModel",
          "state": {
            "_view_name": "LayoutView",
            "grid_template_rows": null,
            "right": null,
            "justify_content": null,
            "_view_module": "@jupyter-widgets/base",
            "overflow": null,
            "_model_module_version": "1.2.0",
            "_view_count": null,
            "flex_flow": null,
            "width": null,
            "min_width": null,
            "border": null,
            "align_items": null,
            "bottom": null,
            "_model_module": "@jupyter-widgets/base",
            "top": null,
            "grid_column": null,
            "overflow_y": null,
            "overflow_x": null,
            "grid_auto_flow": null,
            "grid_area": null,
            "grid_template_columns": null,
            "flex": null,
            "_model_name": "LayoutModel",
            "justify_items": null,
            "grid_row": null,
            "max_height": null,
            "align_content": null,
            "visibility": null,
            "align_self": null,
            "height": null,
            "min_height": null,
            "padding": null,
            "grid_auto_rows": null,
            "grid_gap": null,
            "max_width": null,
            "order": null,
            "_view_module_version": "1.2.0",
            "grid_template_areas": null,
            "object_position": null,
            "object_fit": null,
            "grid_auto_columns": null,
            "margin": null,
            "display": null,
            "left": null
          }
        },
        "34b6a379d41244d087bad204e8b31841": {
          "model_module": "@jupyter-widgets/controls",
          "model_name": "DescriptionStyleModel",
          "state": {
            "_view_name": "StyleView",
            "_model_name": "DescriptionStyleModel",
            "description_width": "",
            "_view_module": "@jupyter-widgets/base",
            "_model_module_version": "1.5.0",
            "_view_count": null,
            "_view_module_version": "1.2.0",
            "_model_module": "@jupyter-widgets/controls"
          }
        },
        "0cbaecb27f914e5c8dc20c2e2d19bee4": {
          "model_module": "@jupyter-widgets/base",
          "model_name": "LayoutModel",
          "state": {
            "_view_name": "LayoutView",
            "grid_template_rows": null,
            "right": null,
            "justify_content": null,
            "_view_module": "@jupyter-widgets/base",
            "overflow": null,
            "_model_module_version": "1.2.0",
            "_view_count": null,
            "flex_flow": null,
            "width": null,
            "min_width": null,
            "border": null,
            "align_items": null,
            "bottom": null,
            "_model_module": "@jupyter-widgets/base",
            "top": null,
            "grid_column": null,
            "overflow_y": null,
            "overflow_x": null,
            "grid_auto_flow": null,
            "grid_area": null,
            "grid_template_columns": null,
            "flex": null,
            "_model_name": "LayoutModel",
            "justify_items": null,
            "grid_row": null,
            "max_height": null,
            "align_content": null,
            "visibility": null,
            "align_self": null,
            "height": null,
            "min_height": null,
            "padding": null,
            "grid_auto_rows": null,
            "grid_gap": null,
            "max_width": null,
            "order": null,
            "_view_module_version": "1.2.0",
            "grid_template_areas": null,
            "object_position": null,
            "object_fit": null,
            "grid_auto_columns": null,
            "margin": null,
            "display": null,
            "left": null
          }
        }
      }
    }
  },
  "cells": [
    {
      "cell_type": "markdown",
      "metadata": {
        "id": "view-in-github",
        "colab_type": "text"
      },
      "source": [
        "<a href=\"https://colab.research.google.com/github/haikangdeng/ResNetxMNIST/blob/main/ResNet18xMNIST.ipynb\" target=\"_parent\"><img src=\"https://colab.research.google.com/assets/colab-badge.svg\" alt=\"Open In Colab\"/></a>"
      ]
    },
    {
      "cell_type": "code",
      "metadata": {
        "id": "VdDF3topiqQb",
        "colab": {
          "base_uri": "https://localhost:8080/"
        },
        "outputId": "fb99e949-67fe-4cf4-8c02-96e41ea1ba81"
      },
      "source": [
        "!nvidia-smi"
      ],
      "execution_count": 1,
      "outputs": [
        {
          "output_type": "stream",
          "text": [
            "Tue Jul  6 02:41:36 2021       \n",
            "+-----------------------------------------------------------------------------+\n",
            "| NVIDIA-SMI 465.27       Driver Version: 460.32.03    CUDA Version: 11.2     |\n",
            "|-------------------------------+----------------------+----------------------+\n",
            "| GPU  Name        Persistence-M| Bus-Id        Disp.A | Volatile Uncorr. ECC |\n",
            "| Fan  Temp  Perf  Pwr:Usage/Cap|         Memory-Usage | GPU-Util  Compute M. |\n",
            "|                               |                      |               MIG M. |\n",
            "|===============================+======================+======================|\n",
            "|   0  Tesla T4            Off  | 00000000:00:04.0 Off |                    0 |\n",
            "| N/A   50C    P8    10W /  70W |      0MiB / 15109MiB |      0%      Default |\n",
            "|                               |                      |                  N/A |\n",
            "+-------------------------------+----------------------+----------------------+\n",
            "                                                                               \n",
            "+-----------------------------------------------------------------------------+\n",
            "| Processes:                                                                  |\n",
            "|  GPU   GI   CI        PID   Type   Process name                  GPU Memory |\n",
            "|        ID   ID                                                   Usage      |\n",
            "|=============================================================================|\n",
            "|  No running processes found                                                 |\n",
            "+-----------------------------------------------------------------------------+\n"
          ],
          "name": "stdout"
        }
      ]
    },
    {
      "cell_type": "code",
      "metadata": {
        "id": "2CwzSQGGiqIX"
      },
      "source": [
        "# !ps -aux|grep python"
      ],
      "execution_count": null,
      "outputs": []
    },
    {
      "cell_type": "code",
      "metadata": {
        "id": "R9eZcQJmkRqP"
      },
      "source": [
        "# !kill -9 284"
      ],
      "execution_count": null,
      "outputs": []
    },
    {
      "cell_type": "code",
      "metadata": {
        "id": "XrKvR7plH0QJ",
        "colab": {
          "base_uri": "https://localhost:8080/",
          "height": 86
        },
        "outputId": "9cdd8786-683d-43d4-88a2-5c91200bd831"
      },
      "source": [
        "'''\n",
        " MyModel\n",
        "    |\n",
        "    |-- ResnetAlter\n",
        "    |\n",
        "    |-- SecModelxx\n",
        "      \n",
        "\n",
        "\n",
        "\n",
        "1. Load Model\n",
        "    model = torch.hub.load('pytorch/vision:v0.9.0', 'resnet152', pretrained=True)\n",
        "    new_model = torch.nn.Sequential(*(list(model.children())[:-1]))\n",
        "2. Load Image\n",
        "    Datasets\n",
        "    Dataloaders(batch, transform--preprocess)\n",
        "3. Define Functions\n",
        "    Loss\n",
        "    Train\n",
        "    Evaluate--test\n",
        "4. Train and Analysis\n",
        "'''"
      ],
      "execution_count": null,
      "outputs": [
        {
          "output_type": "execute_result",
          "data": {
            "application/vnd.google.colaboratory.intrinsic+json": {
              "type": "string"
            },
            "text/plain": [
              "\"\\n MyModel\\n    |\\n    |-- ResnetAlter\\n    |\\n    |-- SecModelxx\\n      \\n\\n\\n\\n1. Load Model\\n    model = torch.hub.load('pytorch/vision:v0.9.0', 'resnet152', pretrained=True)\\n    new_model = torch.nn.Sequential(*(list(model.children())[:-1]))\\n2. Load Image\\n    Datasets\\n    Dataloaders(batch, transform--preprocess)\\n3. Define Functions\\n    Loss\\n    Train\\n    Evaluate--test\\n4. Train and Analysis\\n\""
            ]
          },
          "metadata": {
            "tags": []
          },
          "execution_count": 4
        }
      ]
    },
    {
      "cell_type": "markdown",
      "metadata": {
        "id": "avqxtxNGH0QL"
      },
      "source": [
        "## 1. Import Resnet Pretrained"
      ]
    },
    {
      "cell_type": "code",
      "metadata": {
        "id": "altpyDRAH0QM"
      },
      "source": [
        "import numpy as np\n",
        "import torch\n",
        "import torch.nn as nn\n",
        "import torch.nn.functional as F\n",
        "import torchvision\n",
        "from torchvision import datasets\n",
        "from torch.utils.data import DataLoader"
      ],
      "execution_count": 2,
      "outputs": []
    },
    {
      "cell_type": "code",
      "metadata": {
        "id": "-fJImPgGH0QN"
      },
      "source": [
        "# model = torch.hub.load('pytorch/vision:v0.9.0', 'resnet18', pretrained=True)\n",
        "# model = torch.hub.load('pytorch/vision:v0.9.0', 'resnet34', pretrained=True)\n",
        "# model = torch.hub.load('pytorch/vision:v0.9.0', 'resnet50', pretrained=True)\n",
        "# model = torch.hub.load('pytorch/vision:v0.9.0', 'resnet101', pretrained=True)\n",
        "# model = torch.hub.load('pytorch/vision:v0.9.0', 'resnet152', pretrained=True)\n",
        "# model.eval()\n",
        "\n",
        "# Select which model to implement\n",
        "#model = torchvision.models.resnet18(pretrained=True)\n",
        "\n",
        "# Drop the Last Layer\n",
        "#resEmb = nn.Sequential(*(list(model.children())[:-1]))\n",
        "\n",
        "# Change First Layer to 1x64x64 Input\n",
        "#resEmb[0] = nn.Conv2d(1, 64, kernel_size=(7, 7), stride=(2, 2), padding=(3, 3), bias=False)"
      ],
      "execution_count": 3,
      "outputs": []
    },
    {
      "cell_type": "code",
      "metadata": {
        "id": "RRKJj_DaLmzN"
      },
      "source": [
        "device = torch.device('cuda' if torch.cuda.is_available() else 'cpu')"
      ],
      "execution_count": 4,
      "outputs": []
    },
    {
      "cell_type": "markdown",
      "metadata": {
        "id": "sro3567kH0QO"
      },
      "source": [
        "## 2. Define Custom Module and Append"
      ]
    },
    {
      "cell_type": "code",
      "metadata": {
        "id": "tOEot_NEIcT2"
      },
      "source": [
        "# Define Altered ResNet\n",
        "class ResnetAlter(nn.Module):\n",
        "    def __init__(self):\n",
        "        super(ResnetAlter, self).__init__()\n",
        "        self.resEmb = nn.Sequential(*(list(torchvision.models.resnet18(pretrained=True).children())[:-1]))\n",
        "        self.resEmb[0] = nn.Conv2d(1, 64, kernel_size=(7, 7), stride=(2, 2), padding=(3, 3), bias=False)\n",
        "    \n",
        "    def forward(self, x):\n",
        "        return self.resEmb(x)"
      ],
      "execution_count": 5,
      "outputs": []
    },
    {
      "cell_type": "code",
      "metadata": {
        "id": "2gAlP9WXH0QO"
      },
      "source": [
        "# Define Linear Layer After ResNet\n",
        "class SecModel152(nn.Module):\n",
        "    def __init__(self, dropout=0.5):\n",
        "        super(SecModel152, self).__init__()\n",
        "        self.linear1 = nn.Linear(2048, 512)\n",
        "        self.dropout1 = nn.Dropout(dropout)\n",
        "        self.linear2 = nn.Linear(512, 512)\n",
        "        self.dropout2 = nn.Dropout(dropout)\n",
        "        self.linear3 = nn.Linear(512, 10)\n",
        "\n",
        "    def forward(self, x):\n",
        "        x = F.relu(self.linear1(x.view(-1,2048)))\n",
        "        x = self.dropout1(x)\n",
        "        x = F.relu(self.linear2(x))\n",
        "        x = self.dropout2(x)\n",
        "        return self.linear3(x)"
      ],
      "execution_count": 6,
      "outputs": []
    },
    {
      "cell_type": "code",
      "metadata": {
        "id": "sHZPkNTkr6LW"
      },
      "source": [
        "# Define Linear Layer After ResNet\n",
        "class SecModel18(nn.Module):\n",
        "    def __init__(self, dropout=0.5):\n",
        "        super(SecModel18, self).__init__()\n",
        "        self.linear1 = nn.Linear(512, 256)\n",
        "        self.dropout1 = nn.Dropout(dropout)\n",
        "        self.linear2 = nn.Linear(256, 10)\n",
        "\n",
        "    def forward(self, x):\n",
        "        x = F.relu(self.linear1(x.view(-1,512)))\n",
        "        x = self.dropout1(x)\n",
        "        return self.linear2(x)"
      ],
      "execution_count": 7,
      "outputs": []
    },
    {
      "cell_type": "code",
      "metadata": {
        "id": "L2bFTxylIWZu"
      },
      "source": [
        "# Define MyModel\n",
        "class MyModel(nn.Module):\n",
        "    def __init__(self, resnetAlter, secModel):\n",
        "        super(MyModel, self).__init__()\n",
        "        self.resnetAlter = resnetAlter\n",
        "        self.secModel = secModel\n",
        "    \n",
        "    def forward(self, x):\n",
        "        return self.secModel(self.resnetAlter(x))"
      ],
      "execution_count": 8,
      "outputs": []
    },
    {
      "cell_type": "code",
      "metadata": {
        "id": "e8ztxiDWH0QP"
      },
      "source": [
        "# Initialize Weights of Linear Layers\n",
        "def init_weights(m):\n",
        "    if type(m) == nn.Linear:\n",
        "        torch.nn.init.xavier_uniform_(m.weight)\n",
        "        m.bias.data.fill_(0.01)"
      ],
      "execution_count": 9,
      "outputs": []
    },
    {
      "cell_type": "code",
      "metadata": {
        "id": "eZX25UGsH0QQ"
      },
      "source": [
        "# Create SecModel and initialize weights using xavier\n",
        "# secModel18 = SecModel18()\n",
        "# secModel18.apply(init_weights)"
      ],
      "execution_count": null,
      "outputs": []
    },
    {
      "cell_type": "code",
      "metadata": {
        "id": "ZBh9HqcvH0QQ",
        "colab": {
          "base_uri": "https://localhost:8080/",
          "height": 52
        },
        "outputId": "ce171e5e-7677-4a8c-9c30-6a17d56a0539"
      },
      "source": [
        "# No gradient for previous layers - x\n",
        "# optimizer call to(device) - x\n",
        "# criterion, loss - x\n",
        "# weight - x\n",
        "'''\n",
        "# /Freeze parameters in Resnet\n",
        "for param in resEmb.parameters():\n",
        "    param.requires_grad = True\n",
        "\n",
        "# Append 2 Models together\n",
        "myModel = nn.Sequential(resEmb, secModel18)\n",
        "myModel = myModel.to(device)\n",
        "'''\n"
      ],
      "execution_count": null,
      "outputs": [
        {
          "output_type": "execute_result",
          "data": {
            "application/vnd.google.colaboratory.intrinsic+json": {
              "type": "string"
            },
            "text/plain": [
              "'\\n# /Freeze parameters in Resnet\\nfor param in resEmb.parameters():\\n    param.requires_grad = True\\n\\n# Append 2 Models together\\nmyModel = nn.Sequential(resEmb, secModel18)\\nmyModel = myModel.to(device)\\n'"
            ]
          },
          "metadata": {
            "tags": []
          },
          "execution_count": 14
        }
      ]
    },
    {
      "cell_type": "code",
      "metadata": {
        "colab": {
          "base_uri": "https://localhost:8080/",
          "height": 69
        },
        "id": "_lT_o-zkL24w",
        "outputId": "8aa42aa3-d9e2-430c-8ed9-bda9352a8d31"
      },
      "source": [
        "'''\n",
        "# Define Loss Function\n",
        "criterion = nn.CrossEntropyLoss() # includes a logSoftmax layer and a loss layer\n",
        "criterion = criterion.to(device)\n",
        "\n",
        "# Optimizer--Adam\n",
        "# although all parameters get passed in, only updates those marked with True\n",
        "optimizer = torch.optim.Adam(model.parameters())\n",
        "'''"
      ],
      "execution_count": null,
      "outputs": [
        {
          "output_type": "execute_result",
          "data": {
            "application/vnd.google.colaboratory.intrinsic+json": {
              "type": "string"
            },
            "text/plain": [
              "'\\n# Define Loss Function\\ncriterion = nn.CrossEntropyLoss() # includes a logSoftmax layer and a loss layer\\ncriterion = criterion.to(device)\\n\\n# Optimizer--Adam\\n# although all parameters get passed in, only updates those marked with True\\noptimizer = torch.optim.Adam(model.parameters())\\n'"
            ]
          },
          "metadata": {
            "tags": []
          },
          "execution_count": 15
        }
      ]
    },
    {
      "cell_type": "code",
      "metadata": {
        "id": "K_4KptmtH0QR"
      },
      "source": [
        ""
      ],
      "execution_count": null,
      "outputs": []
    },
    {
      "cell_type": "markdown",
      "metadata": {
        "id": "PGTpp0JmH0QS"
      },
      "source": [
        "## 3. Load Image and Preprocess"
      ]
    },
    {
      "cell_type": "code",
      "metadata": {
        "id": "ddw3etZAH0QT"
      },
      "source": [
        "# Load Images with PIL\n",
        "# Define Process Function for Train and Test Sets\n",
        "\n",
        "from PIL import Image\n",
        "from torchvision import transforms\n",
        "preprocess_train = transforms.Compose([\n",
        "    #transforms.Grayscale(3),\n",
        "    transforms.RandomRotation(degrees=(-15, 15)),\n",
        "    transforms.Resize(224),\n",
        "    transforms.CenterCrop(224),\n",
        "    #transforms.RandomHorizontalFlip(),\n",
        "    transforms.ToTensor(),\n",
        "    transforms.Normalize(mean=(0.485+0.456+0.406)/3, std=(0.229+0.224+0.225)/3)\n",
        "])\n",
        "preprocess_test = transforms.Compose([\n",
        "    #transforms.Grayscale(3),\n",
        "    transforms.Resize(224),\n",
        "    transforms.CenterCrop(224),\n",
        "    #transforms.RandomHorizontalFlip(),\n",
        "    transforms.ToTensor(),\n",
        "    transforms.Normalize(mean=(0.485+0.456+0.406)/3, std=(0.229+0.224+0.225)/3)\n",
        "])"
      ],
      "execution_count": 10,
      "outputs": []
    },
    {
      "cell_type": "code",
      "metadata": {
        "id": "sPGaZOr0H0QT",
        "colab": {
          "base_uri": "https://localhost:8080/",
          "height": 103
        },
        "outputId": "58b78599-cedc-4140-daaa-e2544cc8e83a"
      },
      "source": [
        "'''\n",
        "datasets.MNIST.resources = [\n",
        "            ('https://ossci-datasets.s3.amazonaws.com/mnist/train-images-idx3-ubyte.gz', 'f68b3c2dcbeaaa9fbdd348bbdeb94873'),\n",
        "            ('https://ossci-datasets.s3.amazonaws.com/mnist/train-labels-idx1-ubyte.gz', 'd53e105ee54ea40749a09fcbcd1e9432'),\n",
        "            ('https://ossci-datasets.s3.amazonaws.com/mnist/t10k-images-idx3-ubyte.gz', '9fb629c4189551a2d022fa330f9573f3'),\n",
        "            ('https://ossci-datasets.s3.amazonaws.com/mnist/t10k-labels-idx1-ubyte.gz', 'ec29112dd5afa0611ce80d1b7f02629c')\n",
        "        ]\n",
        "'''"
      ],
      "execution_count": null,
      "outputs": [
        {
          "output_type": "execute_result",
          "data": {
            "application/vnd.google.colaboratory.intrinsic+json": {
              "type": "string"
            },
            "text/plain": [
              "\"\\ndatasets.MNIST.resources = [\\n            ('https://ossci-datasets.s3.amazonaws.com/mnist/train-images-idx3-ubyte.gz', 'f68b3c2dcbeaaa9fbdd348bbdeb94873'),\\n            ('https://ossci-datasets.s3.amazonaws.com/mnist/train-labels-idx1-ubyte.gz', 'd53e105ee54ea40749a09fcbcd1e9432'),\\n            ('https://ossci-datasets.s3.amazonaws.com/mnist/t10k-images-idx3-ubyte.gz', '9fb629c4189551a2d022fa330f9573f3'),\\n            ('https://ossci-datasets.s3.amazonaws.com/mnist/t10k-labels-idx1-ubyte.gz', 'ec29112dd5afa0611ce80d1b7f02629c')\\n        ]\\n\""
            ]
          },
          "metadata": {
            "tags": []
          },
          "execution_count": 17
        }
      ]
    },
    {
      "cell_type": "code",
      "metadata": {
        "id": "7O7GfLCYH0QU",
        "colab": {
          "base_uri": "https://localhost:8080/",
          "height": 760,
          "referenced_widgets": [
            "f88ca8444dd74a6180213f2ae4e21358",
            "21407b9564d94a009bca24cef692aa30",
            "ecf5d2fc1e8f49509cbc7f00ac81fea5",
            "5af3081683664e2aa893f340f115a7c5",
            "efdf036f426844f493c788ce0f6fff5e",
            "a7bba75d1a8c49709fdf47dcc9ebdb85",
            "2eae67fa1862438981d636dcbfab3223",
            "e2b7e6e96c774c4ea470a86481867786",
            "8539b3f68c914b25bcb4543460c4e07d",
            "c2e2d57a33fd49b6a4e0f744700458da",
            "0198ab6cee224f71894ce4bf3852f1e2",
            "a8351c8d0e444829abec9700c17e525c",
            "78fa8e223b9c419c8c90d7b8c0f0ae14",
            "4e3621a323ab4b79b40bb6dc0777fb8d",
            "d6a077195b7342e79292579141069e68",
            "5caa5e7ab43b488a91d754ec1de43051",
            "4fb9524be02a46239baff90f21dcd1b6",
            "c98ecc6219f34c61bc16bb4774428cac",
            "8ef04241288345efbdb11819f94bf2c8",
            "79f3db7ae5bd4507b2e746ac514ec394",
            "9d5252bbdef4485cb72a2fbac2d567ff",
            "dd83d31086dd46a89c28a6bd1b8d05ec",
            "146e30b7a4274712bb2ea86d69430ce6",
            "d58e80ea05af46968008811baafe1ad8",
            "df4e1ebd21254e90afb69155981d4539",
            "f794f2aa3b054606b2ec70ca2f94f7fc",
            "c3db79e51db741b1a9013e02c67a7bdf",
            "c429bc5e63b04d5699882df60c81954d",
            "d76969f3d363435682f5fc02e6f4d649",
            "fec756b583e04a46bfb6298b9d891778",
            "a6e404c7df8944528737970fdafc0be2",
            "2f5f795969dc483e9625d49300391a9e"
          ]
        },
        "outputId": "1a9bb6ea-a8e8-46d8-b557-1d433402ffee"
      },
      "source": [
        "# Different Specified Datasets\n",
        "\n",
        "mnist_trainset_tilt = torchvision.datasets.MNIST(root='./data', train=True, download=True, transform=preprocess_train)\n",
        "mnist_trainset_orig = torchvision.datasets.MNIST(root='./data', train=True, download=True, transform=preprocess_test)\n",
        "\n",
        "mnist_test = torchvision.datasets.MNIST(root='./data', train=False, download=True, transform=preprocess_test)\n",
        "mnist_train_tilt, _ = torch.utils.data.random_split(mnist_trainset_tilt, lengths=[50000, 10000])\n",
        "mnist_train_notilt, mnist_valid = torch.utils.data.random_split(mnist_trainset_orig, lengths=[50000, 10000])\n",
        "mnist_train_double = torch.utils.data.ConcatDataset([mnist_train_tilt, mnist_train_notilt])\n"
      ],
      "execution_count": 11,
      "outputs": [
        {
          "output_type": "stream",
          "text": [
            "Downloading http://yann.lecun.com/exdb/mnist/train-images-idx3-ubyte.gz\n",
            "Failed to download (trying next):\n",
            "HTTP Error 503: Service Unavailable\n",
            "\n",
            "Downloading https://ossci-datasets.s3.amazonaws.com/mnist/train-images-idx3-ubyte.gz\n",
            "Downloading https://ossci-datasets.s3.amazonaws.com/mnist/train-images-idx3-ubyte.gz to ./data/MNIST/raw/train-images-idx3-ubyte.gz\n"
          ],
          "name": "stdout"
        },
        {
          "output_type": "display_data",
          "data": {
            "application/vnd.jupyter.widget-view+json": {
              "model_id": "f88ca8444dd74a6180213f2ae4e21358",
              "version_minor": 0,
              "version_major": 2
            },
            "text/plain": [
              "HBox(children=(FloatProgress(value=0.0, max=9912422.0), HTML(value='')))"
            ]
          },
          "metadata": {
            "tags": []
          }
        },
        {
          "output_type": "stream",
          "text": [
            "\n",
            "Extracting ./data/MNIST/raw/train-images-idx3-ubyte.gz to ./data/MNIST/raw\n",
            "\n",
            "Downloading http://yann.lecun.com/exdb/mnist/train-labels-idx1-ubyte.gz\n",
            "Downloading http://yann.lecun.com/exdb/mnist/train-labels-idx1-ubyte.gz to ./data/MNIST/raw/train-labels-idx1-ubyte.gz\n"
          ],
          "name": "stdout"
        },
        {
          "output_type": "display_data",
          "data": {
            "application/vnd.jupyter.widget-view+json": {
              "model_id": "8539b3f68c914b25bcb4543460c4e07d",
              "version_minor": 0,
              "version_major": 2
            },
            "text/plain": [
              "HBox(children=(FloatProgress(value=0.0, max=28881.0), HTML(value='')))"
            ]
          },
          "metadata": {
            "tags": []
          }
        },
        {
          "output_type": "stream",
          "text": [
            "\n",
            "Extracting ./data/MNIST/raw/train-labels-idx1-ubyte.gz to ./data/MNIST/raw\n",
            "\n",
            "Downloading http://yann.lecun.com/exdb/mnist/t10k-images-idx3-ubyte.gz\n",
            "Downloading http://yann.lecun.com/exdb/mnist/t10k-images-idx3-ubyte.gz to ./data/MNIST/raw/t10k-images-idx3-ubyte.gz\n",
            "Failed to download (trying next):\n",
            "HTTP Error 503: Service Unavailable\n",
            "\n",
            "Downloading https://ossci-datasets.s3.amazonaws.com/mnist/t10k-images-idx3-ubyte.gz\n",
            "Downloading https://ossci-datasets.s3.amazonaws.com/mnist/t10k-images-idx3-ubyte.gz to ./data/MNIST/raw/t10k-images-idx3-ubyte.gz\n"
          ],
          "name": "stdout"
        },
        {
          "output_type": "display_data",
          "data": {
            "application/vnd.jupyter.widget-view+json": {
              "model_id": "4fb9524be02a46239baff90f21dcd1b6",
              "version_minor": 0,
              "version_major": 2
            },
            "text/plain": [
              "HBox(children=(FloatProgress(value=0.0, max=1648877.0), HTML(value='')))"
            ]
          },
          "metadata": {
            "tags": []
          }
        },
        {
          "output_type": "stream",
          "text": [
            "\n",
            "Extracting ./data/MNIST/raw/t10k-images-idx3-ubyte.gz to ./data/MNIST/raw\n",
            "\n",
            "Downloading http://yann.lecun.com/exdb/mnist/t10k-labels-idx1-ubyte.gz\n",
            "Failed to download (trying next):\n",
            "HTTP Error 503: Service Unavailable\n",
            "\n",
            "Downloading https://ossci-datasets.s3.amazonaws.com/mnist/t10k-labels-idx1-ubyte.gz\n",
            "Downloading https://ossci-datasets.s3.amazonaws.com/mnist/t10k-labels-idx1-ubyte.gz to ./data/MNIST/raw/t10k-labels-idx1-ubyte.gz\n"
          ],
          "name": "stdout"
        },
        {
          "output_type": "display_data",
          "data": {
            "application/vnd.jupyter.widget-view+json": {
              "model_id": "df4e1ebd21254e90afb69155981d4539",
              "version_minor": 0,
              "version_major": 2
            },
            "text/plain": [
              "HBox(children=(FloatProgress(value=0.0, max=4542.0), HTML(value='')))"
            ]
          },
          "metadata": {
            "tags": []
          }
        },
        {
          "output_type": "stream",
          "text": [
            "\n",
            "Extracting ./data/MNIST/raw/t10k-labels-idx1-ubyte.gz to ./data/MNIST/raw\n",
            "\n"
          ],
          "name": "stdout"
        },
        {
          "output_type": "stream",
          "text": [
            "/usr/local/lib/python3.7/dist-packages/torchvision/datasets/mnist.py:498: UserWarning: The given NumPy array is not writeable, and PyTorch does not support non-writeable tensors. This means you can write to the underlying (supposedly non-writeable) NumPy array using the tensor. You may want to copy the array to protect its data or make it writeable before converting it to a tensor. This type of warning will be suppressed for the rest of this program. (Triggered internally at  /pytorch/torch/csrc/utils/tensor_numpy.cpp:180.)\n",
            "  return torch.from_numpy(parsed.astype(m[2], copy=False)).view(*s)\n"
          ],
          "name": "stderr"
        }
      ]
    },
    {
      "cell_type": "code",
      "metadata": {
        "id": "3qEszVz3H0QV"
      },
      "source": [
        ""
      ],
      "execution_count": null,
      "outputs": []
    },
    {
      "cell_type": "code",
      "metadata": {
        "id": "EVpZa6tTH0QW"
      },
      "source": [
        "# Create DataLoader for Datasets\n",
        "\n",
        "train_dataloader = DataLoader(mnist_train_tilt, batch_size=256, shuffle=True)\n",
        "valid_dataloader = DataLoader(mnist_valid, batch_size=256, shuffle=True)\n",
        "test_dataloader = DataLoader(mnist_test, batch_size=256, shuffle=True)\n",
        "\n",
        "Big_train_dataloader = DataLoader(mnist_trainset_tilt, batch_size=256, shuffle=True)\n",
        "Double_train_dataloader = DataLoader(mnist_train_double, batch_size=256, shuffle=True)"
      ],
      "execution_count": 12,
      "outputs": []
    },
    {
      "cell_type": "code",
      "metadata": {
        "id": "FIykNNbVDv1N"
      },
      "source": [
        ""
      ],
      "execution_count": null,
      "outputs": []
    },
    {
      "cell_type": "markdown",
      "metadata": {
        "id": "OLHS7GPULKtF"
      },
      "source": [
        "## 4. Load Model Parameters"
      ]
    },
    {
      "cell_type": "code",
      "metadata": {
        "colab": {
          "base_uri": "https://localhost:8080/",
          "height": 1000,
          "referenced_widgets": [
            "04cc6cd7770641fbbdd66d2782e66a0f",
            "bc1ea87ed0a7451882bc9ddc61a2777b",
            "881ed9757e6e4573a670b2cf16c90032",
            "f4e8a48a8ea34cbeb28437856e726765",
            "e47e081fbb1d44dbb27d430cc1b16223",
            "9910d4620fe2473fbb2e31ac3ab82add",
            "34b6a379d41244d087bad204e8b31841",
            "0cbaecb27f914e5c8dc20c2e2d19bee4"
          ]
        },
        "id": "n7TUH4RP8dxD",
        "outputId": "f1135836-ebd2-491c-f713-21ac001b4439"
      },
      "source": [
        "# Load Model From Local Drive\n",
        "LOAD_PATH = 'checkpoint.pt'\n",
        "\n",
        "resnetAlter = ResnetAlter()\n",
        "secModel18 = SecModel18()\n",
        "\n",
        "# -------- Don't Call if Load --------\n",
        "secModel18.apply(init_weights)\n",
        "# ------------------------------------\n",
        "\n",
        "myModel = MyModel(resnetAlter, secModel18)\n",
        "\n",
        "# -------- Call only to Load --------\n",
        "#myModel.load_state_dict(torch.load(LOAD_PATH))\n",
        "# -----------------------------------\n",
        "\n",
        "myModel.to(device)\n",
        "myModel.eval()"
      ],
      "execution_count": 13,
      "outputs": [
        {
          "output_type": "stream",
          "text": [
            "Downloading: \"https://download.pytorch.org/models/resnet18-f37072fd.pth\" to /root/.cache/torch/hub/checkpoints/resnet18-f37072fd.pth\n"
          ],
          "name": "stderr"
        },
        {
          "output_type": "display_data",
          "data": {
            "application/vnd.jupyter.widget-view+json": {
              "model_id": "04cc6cd7770641fbbdd66d2782e66a0f",
              "version_minor": 0,
              "version_major": 2
            },
            "text/plain": [
              "HBox(children=(FloatProgress(value=0.0, max=46830571.0), HTML(value='')))"
            ]
          },
          "metadata": {
            "tags": []
          }
        },
        {
          "output_type": "stream",
          "text": [
            "\n"
          ],
          "name": "stdout"
        },
        {
          "output_type": "execute_result",
          "data": {
            "text/plain": [
              "MyModel(\n",
              "  (resnetAlter): ResnetAlter(\n",
              "    (resEmb): Sequential(\n",
              "      (0): Conv2d(1, 64, kernel_size=(7, 7), stride=(2, 2), padding=(3, 3), bias=False)\n",
              "      (1): BatchNorm2d(64, eps=1e-05, momentum=0.1, affine=True, track_running_stats=True)\n",
              "      (2): ReLU(inplace=True)\n",
              "      (3): MaxPool2d(kernel_size=3, stride=2, padding=1, dilation=1, ceil_mode=False)\n",
              "      (4): Sequential(\n",
              "        (0): BasicBlock(\n",
              "          (conv1): Conv2d(64, 64, kernel_size=(3, 3), stride=(1, 1), padding=(1, 1), bias=False)\n",
              "          (bn1): BatchNorm2d(64, eps=1e-05, momentum=0.1, affine=True, track_running_stats=True)\n",
              "          (relu): ReLU(inplace=True)\n",
              "          (conv2): Conv2d(64, 64, kernel_size=(3, 3), stride=(1, 1), padding=(1, 1), bias=False)\n",
              "          (bn2): BatchNorm2d(64, eps=1e-05, momentum=0.1, affine=True, track_running_stats=True)\n",
              "        )\n",
              "        (1): BasicBlock(\n",
              "          (conv1): Conv2d(64, 64, kernel_size=(3, 3), stride=(1, 1), padding=(1, 1), bias=False)\n",
              "          (bn1): BatchNorm2d(64, eps=1e-05, momentum=0.1, affine=True, track_running_stats=True)\n",
              "          (relu): ReLU(inplace=True)\n",
              "          (conv2): Conv2d(64, 64, kernel_size=(3, 3), stride=(1, 1), padding=(1, 1), bias=False)\n",
              "          (bn2): BatchNorm2d(64, eps=1e-05, momentum=0.1, affine=True, track_running_stats=True)\n",
              "        )\n",
              "      )\n",
              "      (5): Sequential(\n",
              "        (0): BasicBlock(\n",
              "          (conv1): Conv2d(64, 128, kernel_size=(3, 3), stride=(2, 2), padding=(1, 1), bias=False)\n",
              "          (bn1): BatchNorm2d(128, eps=1e-05, momentum=0.1, affine=True, track_running_stats=True)\n",
              "          (relu): ReLU(inplace=True)\n",
              "          (conv2): Conv2d(128, 128, kernel_size=(3, 3), stride=(1, 1), padding=(1, 1), bias=False)\n",
              "          (bn2): BatchNorm2d(128, eps=1e-05, momentum=0.1, affine=True, track_running_stats=True)\n",
              "          (downsample): Sequential(\n",
              "            (0): Conv2d(64, 128, kernel_size=(1, 1), stride=(2, 2), bias=False)\n",
              "            (1): BatchNorm2d(128, eps=1e-05, momentum=0.1, affine=True, track_running_stats=True)\n",
              "          )\n",
              "        )\n",
              "        (1): BasicBlock(\n",
              "          (conv1): Conv2d(128, 128, kernel_size=(3, 3), stride=(1, 1), padding=(1, 1), bias=False)\n",
              "          (bn1): BatchNorm2d(128, eps=1e-05, momentum=0.1, affine=True, track_running_stats=True)\n",
              "          (relu): ReLU(inplace=True)\n",
              "          (conv2): Conv2d(128, 128, kernel_size=(3, 3), stride=(1, 1), padding=(1, 1), bias=False)\n",
              "          (bn2): BatchNorm2d(128, eps=1e-05, momentum=0.1, affine=True, track_running_stats=True)\n",
              "        )\n",
              "      )\n",
              "      (6): Sequential(\n",
              "        (0): BasicBlock(\n",
              "          (conv1): Conv2d(128, 256, kernel_size=(3, 3), stride=(2, 2), padding=(1, 1), bias=False)\n",
              "          (bn1): BatchNorm2d(256, eps=1e-05, momentum=0.1, affine=True, track_running_stats=True)\n",
              "          (relu): ReLU(inplace=True)\n",
              "          (conv2): Conv2d(256, 256, kernel_size=(3, 3), stride=(1, 1), padding=(1, 1), bias=False)\n",
              "          (bn2): BatchNorm2d(256, eps=1e-05, momentum=0.1, affine=True, track_running_stats=True)\n",
              "          (downsample): Sequential(\n",
              "            (0): Conv2d(128, 256, kernel_size=(1, 1), stride=(2, 2), bias=False)\n",
              "            (1): BatchNorm2d(256, eps=1e-05, momentum=0.1, affine=True, track_running_stats=True)\n",
              "          )\n",
              "        )\n",
              "        (1): BasicBlock(\n",
              "          (conv1): Conv2d(256, 256, kernel_size=(3, 3), stride=(1, 1), padding=(1, 1), bias=False)\n",
              "          (bn1): BatchNorm2d(256, eps=1e-05, momentum=0.1, affine=True, track_running_stats=True)\n",
              "          (relu): ReLU(inplace=True)\n",
              "          (conv2): Conv2d(256, 256, kernel_size=(3, 3), stride=(1, 1), padding=(1, 1), bias=False)\n",
              "          (bn2): BatchNorm2d(256, eps=1e-05, momentum=0.1, affine=True, track_running_stats=True)\n",
              "        )\n",
              "      )\n",
              "      (7): Sequential(\n",
              "        (0): BasicBlock(\n",
              "          (conv1): Conv2d(256, 512, kernel_size=(3, 3), stride=(2, 2), padding=(1, 1), bias=False)\n",
              "          (bn1): BatchNorm2d(512, eps=1e-05, momentum=0.1, affine=True, track_running_stats=True)\n",
              "          (relu): ReLU(inplace=True)\n",
              "          (conv2): Conv2d(512, 512, kernel_size=(3, 3), stride=(1, 1), padding=(1, 1), bias=False)\n",
              "          (bn2): BatchNorm2d(512, eps=1e-05, momentum=0.1, affine=True, track_running_stats=True)\n",
              "          (downsample): Sequential(\n",
              "            (0): Conv2d(256, 512, kernel_size=(1, 1), stride=(2, 2), bias=False)\n",
              "            (1): BatchNorm2d(512, eps=1e-05, momentum=0.1, affine=True, track_running_stats=True)\n",
              "          )\n",
              "        )\n",
              "        (1): BasicBlock(\n",
              "          (conv1): Conv2d(512, 512, kernel_size=(3, 3), stride=(1, 1), padding=(1, 1), bias=False)\n",
              "          (bn1): BatchNorm2d(512, eps=1e-05, momentum=0.1, affine=True, track_running_stats=True)\n",
              "          (relu): ReLU(inplace=True)\n",
              "          (conv2): Conv2d(512, 512, kernel_size=(3, 3), stride=(1, 1), padding=(1, 1), bias=False)\n",
              "          (bn2): BatchNorm2d(512, eps=1e-05, momentum=0.1, affine=True, track_running_stats=True)\n",
              "        )\n",
              "      )\n",
              "      (8): AdaptiveAvgPool2d(output_size=(1, 1))\n",
              "    )\n",
              "  )\n",
              "  (secModel): SecModel18(\n",
              "    (linear1): Linear(in_features=512, out_features=256, bias=True)\n",
              "    (dropout1): Dropout(p=0.5, inplace=False)\n",
              "    (linear2): Linear(in_features=256, out_features=10, bias=True)\n",
              "  )\n",
              ")"
            ]
          },
          "metadata": {
            "tags": []
          },
          "execution_count": 13
        }
      ]
    },
    {
      "cell_type": "code",
      "metadata": {
        "id": "_baWZ26W8dmM"
      },
      "source": [
        ""
      ],
      "execution_count": null,
      "outputs": []
    },
    {
      "cell_type": "code",
      "metadata": {
        "id": "UzEKpYjs3FsT"
      },
      "source": [
        "# Define Loss Function\n",
        "criterion = nn.CrossEntropyLoss() # includes a logSoftmax layer and a loss layer\n",
        "criterion = criterion.to(device)\n",
        "\n",
        "# Optimizer--Adam\n",
        "# although all parameters get passed in, only updates those marked with True\n",
        "# optimizer = torch.optim.Adam(model.parameters())\n",
        "optimizer = torch.optim.Adam(myModel.parameters())"
      ],
      "execution_count": 14,
      "outputs": []
    },
    {
      "cell_type": "code",
      "metadata": {
        "id": "pUtehjKs3FKd"
      },
      "source": [
        ""
      ],
      "execution_count": 14,
      "outputs": []
    },
    {
      "cell_type": "code",
      "metadata": {
        "id": "mOWjUOzdH0QW"
      },
      "source": [
        "# Define Train and Evaluate Function\n",
        "\n",
        "def train(model, device, train_loader, valid_loader, optimizer, criterion, epoch, log_interval=1, dry_run=False, save=False):\n",
        "    model.train()\n",
        "    best_loss = np.inf\n",
        "    for ep in range(1, epoch+1):\n",
        "        current = 0\n",
        "        for batch_idx, (data, target) in enumerate(train_loader):\n",
        "            data, target = data.to(device), target.to(device)\n",
        "            optimizer.zero_grad()\n",
        "            output = model(data)\n",
        "            loss = criterion(output, target)\n",
        "            loss.backward()\n",
        "            optimizer.step()\n",
        "            current += len(data)\n",
        "            if batch_idx % log_interval == 0:\n",
        "                print('Train Epoch: {} [{}/{} ({:.0f}%)]\\tLoss: {:.6f}'.format(\n",
        "                    ep, current, len(train_loader.dataset),\n",
        "                    100. * current / len(train_loader.dataset), loss.item()))\n",
        "                if dry_run:\n",
        "                    break\n",
        "        loss, _, _, _ = test(model, device, valid_loader, nn.CrossEntropyLoss(reduction='sum'))\n",
        "        if save:\n",
        "            if loss < best_loss:\n",
        "                best_loss = loss\n",
        "                torch.save(model.state_dict(), 'checkpoint.pt')\n",
        "                print('***Model Updated***')\n",
        "\n",
        "def test(model, device, test_loader, criterion):\n",
        "    model.eval()\n",
        "    test_loss = 0\n",
        "    correct = 0\n",
        "    wrongx = []\n",
        "    wrongy = []\n",
        "    truey = []\n",
        "    with torch.no_grad():\n",
        "        for data, target in test_loader:\n",
        "            data, target = data.to(device), target.to(device)\n",
        "            output = model(data)\n",
        "            # test_loss += criterion(output, target, reduction='sum').item()  # sum up batch loss\n",
        "            test_loss += criterion(output, target).item()  # sum up batch loss\n",
        "            pred = output.argmax(dim=1, keepdim=True)  # get the index of the max log-probability\n",
        "            correct += pred.eq(target.view_as(pred)).sum().item()\n",
        "\n",
        "            selector = ~pred.eq(target.view_as(pred)).squeeze(1)\n",
        "            # print(selector.shape)\n",
        "            wrongx.append(data[selector])\n",
        "            wrongy.append(pred[selector])\n",
        "            truey.append(target[selector])\n",
        "            #print(selector.shape)\n",
        "            #print(data[selector].shape)\n",
        "\n",
        "    test_loss /= len(test_loader.dataset)\n",
        "    print('\\nTest set: Average loss: {:.4f}, Accuracy: {}/{} ({:.2f}%)\\n'.format(\n",
        "        test_loss, correct, len(test_loader.dataset),\n",
        "        100. * correct / len(test_loader.dataset)))\n",
        "    \n",
        "    wrongx = torch.cat( wrongx, dim=0 )\n",
        "    wrongy = torch.cat( wrongy, dim=0 )\n",
        "    truey = torch.cat( truey, dim=0 )\n",
        "    return test_loss, wrongx, wrongy, truey"
      ],
      "execution_count": 15,
      "outputs": []
    },
    {
      "cell_type": "code",
      "metadata": {
        "id": "9qW9YjDsZami",
        "colab": {
          "base_uri": "https://localhost:8080/"
        },
        "outputId": "8f603bf1-4b49-4b31-981a-86ee8b93c8ec"
      },
      "source": [
        "# Train Here\n",
        "\n",
        "EPOCH = 1\n",
        "'''\n",
        "for e in range(EPOCH):\n",
        "    print('Epoch',e+1)\n",
        "    # train(myModel, device, train_dataloader, optimizer, criterion, epoch=1)\n",
        "    train(myModel, device, Double_train_dataloader, optimizer, criterion, epoch=1)\n",
        "    test(myModel, device, valid_dataloader, nn.CrossEntropyLoss(reduction='sum'))\n",
        "'''\n",
        "train(myModel, device, Double_train_dataloader, valid_dataloader, optimizer, criterion, EPOCH, save=False)\n",
        "\n",
        "#wrongx, wrongy, truey = test(myModel, device, test_dataloader, nn.CrossEntropyLoss(reduction='sum'))"
      ],
      "execution_count": 17,
      "outputs": [
        {
          "output_type": "stream",
          "text": [
            "Train Epoch: 1 [256/100000 (0%)]\tLoss: 0.021942\n",
            "Train Epoch: 1 [512/100000 (1%)]\tLoss: 0.011219\n",
            "Train Epoch: 1 [768/100000 (1%)]\tLoss: 0.087122\n",
            "Train Epoch: 1 [1024/100000 (1%)]\tLoss: 0.053755\n",
            "Train Epoch: 1 [1280/100000 (1%)]\tLoss: 0.017617\n",
            "Train Epoch: 1 [1536/100000 (2%)]\tLoss: 0.030150\n",
            "Train Epoch: 1 [1792/100000 (2%)]\tLoss: 0.023227\n",
            "Train Epoch: 1 [2048/100000 (2%)]\tLoss: 0.030789\n",
            "Train Epoch: 1 [2304/100000 (2%)]\tLoss: 0.088968\n",
            "Train Epoch: 1 [2560/100000 (3%)]\tLoss: 0.080059\n",
            "Train Epoch: 1 [2816/100000 (3%)]\tLoss: 0.058860\n",
            "Train Epoch: 1 [3072/100000 (3%)]\tLoss: 0.037473\n",
            "Train Epoch: 1 [3328/100000 (3%)]\tLoss: 0.050292\n",
            "Train Epoch: 1 [3584/100000 (4%)]\tLoss: 0.014191\n",
            "Train Epoch: 1 [3840/100000 (4%)]\tLoss: 0.057973\n",
            "Train Epoch: 1 [4096/100000 (4%)]\tLoss: 0.045019\n",
            "Train Epoch: 1 [4352/100000 (4%)]\tLoss: 0.059962\n",
            "Train Epoch: 1 [4608/100000 (5%)]\tLoss: 0.017785\n",
            "Train Epoch: 1 [4864/100000 (5%)]\tLoss: 0.057532\n",
            "Train Epoch: 1 [5120/100000 (5%)]\tLoss: 0.059327\n",
            "Train Epoch: 1 [5376/100000 (5%)]\tLoss: 0.015971\n",
            "Train Epoch: 1 [5632/100000 (6%)]\tLoss: 0.017316\n",
            "Train Epoch: 1 [5888/100000 (6%)]\tLoss: 0.012759\n",
            "Train Epoch: 1 [6144/100000 (6%)]\tLoss: 0.072968\n",
            "Train Epoch: 1 [6400/100000 (6%)]\tLoss: 0.019774\n",
            "Train Epoch: 1 [6656/100000 (7%)]\tLoss: 0.020629\n",
            "Train Epoch: 1 [6912/100000 (7%)]\tLoss: 0.029539\n",
            "Train Epoch: 1 [7168/100000 (7%)]\tLoss: 0.018865\n",
            "Train Epoch: 1 [7424/100000 (7%)]\tLoss: 0.060970\n",
            "Train Epoch: 1 [7680/100000 (8%)]\tLoss: 0.026685\n",
            "Train Epoch: 1 [7936/100000 (8%)]\tLoss: 0.057640\n",
            "Train Epoch: 1 [8192/100000 (8%)]\tLoss: 0.023942\n",
            "Train Epoch: 1 [8448/100000 (8%)]\tLoss: 0.072549\n",
            "Train Epoch: 1 [8704/100000 (9%)]\tLoss: 0.027890\n",
            "Train Epoch: 1 [8960/100000 (9%)]\tLoss: 0.068584\n",
            "Train Epoch: 1 [9216/100000 (9%)]\tLoss: 0.031713\n",
            "Train Epoch: 1 [9472/100000 (9%)]\tLoss: 0.090443\n",
            "Train Epoch: 1 [9728/100000 (10%)]\tLoss: 0.018758\n",
            "Train Epoch: 1 [9984/100000 (10%)]\tLoss: 0.040404\n",
            "Train Epoch: 1 [10240/100000 (10%)]\tLoss: 0.021850\n",
            "Train Epoch: 1 [10496/100000 (10%)]\tLoss: 0.020641\n",
            "Train Epoch: 1 [10752/100000 (11%)]\tLoss: 0.034006\n",
            "Train Epoch: 1 [11008/100000 (11%)]\tLoss: 0.028925\n",
            "Train Epoch: 1 [11264/100000 (11%)]\tLoss: 0.050994\n",
            "Train Epoch: 1 [11520/100000 (12%)]\tLoss: 0.021291\n",
            "Train Epoch: 1 [11776/100000 (12%)]\tLoss: 0.026862\n",
            "Train Epoch: 1 [12032/100000 (12%)]\tLoss: 0.014640\n",
            "Train Epoch: 1 [12288/100000 (12%)]\tLoss: 0.016116\n",
            "Train Epoch: 1 [12544/100000 (13%)]\tLoss: 0.045658\n",
            "Train Epoch: 1 [12800/100000 (13%)]\tLoss: 0.024432\n",
            "Train Epoch: 1 [13056/100000 (13%)]\tLoss: 0.032703\n",
            "Train Epoch: 1 [13312/100000 (13%)]\tLoss: 0.013395\n",
            "Train Epoch: 1 [13568/100000 (14%)]\tLoss: 0.029747\n",
            "Train Epoch: 1 [13824/100000 (14%)]\tLoss: 0.038700\n",
            "Train Epoch: 1 [14080/100000 (14%)]\tLoss: 0.048257\n",
            "Train Epoch: 1 [14336/100000 (14%)]\tLoss: 0.035710\n",
            "Train Epoch: 1 [14592/100000 (15%)]\tLoss: 0.046469\n",
            "Train Epoch: 1 [14848/100000 (15%)]\tLoss: 0.045998\n",
            "Train Epoch: 1 [15104/100000 (15%)]\tLoss: 0.014384\n",
            "Train Epoch: 1 [15360/100000 (15%)]\tLoss: 0.025779\n",
            "Train Epoch: 1 [15616/100000 (16%)]\tLoss: 0.057240\n",
            "Train Epoch: 1 [15872/100000 (16%)]\tLoss: 0.021001\n",
            "Train Epoch: 1 [16128/100000 (16%)]\tLoss: 0.007745\n",
            "Train Epoch: 1 [16384/100000 (16%)]\tLoss: 0.034210\n",
            "Train Epoch: 1 [16640/100000 (17%)]\tLoss: 0.013426\n",
            "Train Epoch: 1 [16896/100000 (17%)]\tLoss: 0.025541\n",
            "Train Epoch: 1 [17152/100000 (17%)]\tLoss: 0.037067\n",
            "Train Epoch: 1 [17408/100000 (17%)]\tLoss: 0.053410\n",
            "Train Epoch: 1 [17664/100000 (18%)]\tLoss: 0.012719\n",
            "Train Epoch: 1 [17920/100000 (18%)]\tLoss: 0.047219\n",
            "Train Epoch: 1 [18176/100000 (18%)]\tLoss: 0.061056\n",
            "Train Epoch: 1 [18432/100000 (18%)]\tLoss: 0.057465\n",
            "Train Epoch: 1 [18688/100000 (19%)]\tLoss: 0.085907\n",
            "Train Epoch: 1 [18944/100000 (19%)]\tLoss: 0.012878\n",
            "Train Epoch: 1 [19200/100000 (19%)]\tLoss: 0.039844\n",
            "Train Epoch: 1 [19456/100000 (19%)]\tLoss: 0.043273\n",
            "Train Epoch: 1 [19712/100000 (20%)]\tLoss: 0.023596\n",
            "Train Epoch: 1 [19968/100000 (20%)]\tLoss: 0.049561\n",
            "Train Epoch: 1 [20224/100000 (20%)]\tLoss: 0.052673\n",
            "Train Epoch: 1 [20480/100000 (20%)]\tLoss: 0.047418\n",
            "Train Epoch: 1 [20736/100000 (21%)]\tLoss: 0.035364\n",
            "Train Epoch: 1 [20992/100000 (21%)]\tLoss: 0.057507\n",
            "Train Epoch: 1 [21248/100000 (21%)]\tLoss: 0.029596\n",
            "Train Epoch: 1 [21504/100000 (22%)]\tLoss: 0.051430\n",
            "Train Epoch: 1 [21760/100000 (22%)]\tLoss: 0.037992\n",
            "Train Epoch: 1 [22016/100000 (22%)]\tLoss: 0.065176\n",
            "Train Epoch: 1 [22272/100000 (22%)]\tLoss: 0.013651\n",
            "Train Epoch: 1 [22528/100000 (23%)]\tLoss: 0.025922\n",
            "Train Epoch: 1 [22784/100000 (23%)]\tLoss: 0.083856\n",
            "Train Epoch: 1 [23040/100000 (23%)]\tLoss: 0.052486\n",
            "Train Epoch: 1 [23296/100000 (23%)]\tLoss: 0.069078\n",
            "Train Epoch: 1 [23552/100000 (24%)]\tLoss: 0.030545\n",
            "Train Epoch: 1 [23808/100000 (24%)]\tLoss: 0.058181\n",
            "Train Epoch: 1 [24064/100000 (24%)]\tLoss: 0.012823\n",
            "Train Epoch: 1 [24320/100000 (24%)]\tLoss: 0.083360\n",
            "Train Epoch: 1 [24576/100000 (25%)]\tLoss: 0.016718\n",
            "Train Epoch: 1 [24832/100000 (25%)]\tLoss: 0.027306\n",
            "Train Epoch: 1 [25088/100000 (25%)]\tLoss: 0.029404\n",
            "Train Epoch: 1 [25344/100000 (25%)]\tLoss: 0.025780\n",
            "Train Epoch: 1 [25600/100000 (26%)]\tLoss: 0.047619\n",
            "Train Epoch: 1 [25856/100000 (26%)]\tLoss: 0.020609\n",
            "Train Epoch: 1 [26112/100000 (26%)]\tLoss: 0.009678\n",
            "Train Epoch: 1 [26368/100000 (26%)]\tLoss: 0.030010\n",
            "Train Epoch: 1 [26624/100000 (27%)]\tLoss: 0.049583\n",
            "Train Epoch: 1 [26880/100000 (27%)]\tLoss: 0.032376\n",
            "Train Epoch: 1 [27136/100000 (27%)]\tLoss: 0.026401\n",
            "Train Epoch: 1 [27392/100000 (27%)]\tLoss: 0.030486\n",
            "Train Epoch: 1 [27648/100000 (28%)]\tLoss: 0.041093\n",
            "Train Epoch: 1 [27904/100000 (28%)]\tLoss: 0.031540\n",
            "Train Epoch: 1 [28160/100000 (28%)]\tLoss: 0.013123\n",
            "Train Epoch: 1 [28416/100000 (28%)]\tLoss: 0.020107\n",
            "Train Epoch: 1 [28672/100000 (29%)]\tLoss: 0.026247\n",
            "Train Epoch: 1 [28928/100000 (29%)]\tLoss: 0.009936\n",
            "Train Epoch: 1 [29184/100000 (29%)]\tLoss: 0.009293\n",
            "Train Epoch: 1 [29440/100000 (29%)]\tLoss: 0.018573\n",
            "Train Epoch: 1 [29696/100000 (30%)]\tLoss: 0.005356\n",
            "Train Epoch: 1 [29952/100000 (30%)]\tLoss: 0.024493\n",
            "Train Epoch: 1 [30208/100000 (30%)]\tLoss: 0.009541\n",
            "Train Epoch: 1 [30464/100000 (30%)]\tLoss: 0.079222\n",
            "Train Epoch: 1 [30720/100000 (31%)]\tLoss: 0.068035\n",
            "Train Epoch: 1 [30976/100000 (31%)]\tLoss: 0.023816\n",
            "Train Epoch: 1 [31232/100000 (31%)]\tLoss: 0.034723\n",
            "Train Epoch: 1 [31488/100000 (31%)]\tLoss: 0.031848\n",
            "Train Epoch: 1 [31744/100000 (32%)]\tLoss: 0.007975\n",
            "Train Epoch: 1 [32000/100000 (32%)]\tLoss: 0.064759\n",
            "Train Epoch: 1 [32256/100000 (32%)]\tLoss: 0.043708\n",
            "Train Epoch: 1 [32512/100000 (33%)]\tLoss: 0.024403\n",
            "Train Epoch: 1 [32768/100000 (33%)]\tLoss: 0.020909\n",
            "Train Epoch: 1 [33024/100000 (33%)]\tLoss: 0.007402\n",
            "Train Epoch: 1 [33280/100000 (33%)]\tLoss: 0.049919\n",
            "Train Epoch: 1 [33536/100000 (34%)]\tLoss: 0.033411\n",
            "Train Epoch: 1 [33792/100000 (34%)]\tLoss: 0.051705\n",
            "Train Epoch: 1 [34048/100000 (34%)]\tLoss: 0.052084\n",
            "Train Epoch: 1 [34304/100000 (34%)]\tLoss: 0.055409\n",
            "Train Epoch: 1 [34560/100000 (35%)]\tLoss: 0.047497\n",
            "Train Epoch: 1 [34816/100000 (35%)]\tLoss: 0.014990\n",
            "Train Epoch: 1 [35072/100000 (35%)]\tLoss: 0.012053\n",
            "Train Epoch: 1 [35328/100000 (35%)]\tLoss: 0.013559\n",
            "Train Epoch: 1 [35584/100000 (36%)]\tLoss: 0.029761\n",
            "Train Epoch: 1 [35840/100000 (36%)]\tLoss: 0.042324\n",
            "Train Epoch: 1 [36096/100000 (36%)]\tLoss: 0.012685\n",
            "Train Epoch: 1 [36352/100000 (36%)]\tLoss: 0.022593\n",
            "Train Epoch: 1 [36608/100000 (37%)]\tLoss: 0.056503\n",
            "Train Epoch: 1 [36864/100000 (37%)]\tLoss: 0.033922\n",
            "Train Epoch: 1 [37120/100000 (37%)]\tLoss: 0.033114\n",
            "Train Epoch: 1 [37376/100000 (37%)]\tLoss: 0.020008\n",
            "Train Epoch: 1 [37632/100000 (38%)]\tLoss: 0.005312\n",
            "Train Epoch: 1 [37888/100000 (38%)]\tLoss: 0.014014\n",
            "Train Epoch: 1 [38144/100000 (38%)]\tLoss: 0.037581\n",
            "Train Epoch: 1 [38400/100000 (38%)]\tLoss: 0.059073\n",
            "Train Epoch: 1 [38656/100000 (39%)]\tLoss: 0.023526\n",
            "Train Epoch: 1 [38912/100000 (39%)]\tLoss: 0.012561\n",
            "Train Epoch: 1 [39168/100000 (39%)]\tLoss: 0.058337\n",
            "Train Epoch: 1 [39424/100000 (39%)]\tLoss: 0.040034\n",
            "Train Epoch: 1 [39680/100000 (40%)]\tLoss: 0.019830\n",
            "Train Epoch: 1 [39936/100000 (40%)]\tLoss: 0.046414\n",
            "Train Epoch: 1 [40192/100000 (40%)]\tLoss: 0.032514\n",
            "Train Epoch: 1 [40448/100000 (40%)]\tLoss: 0.037494\n",
            "Train Epoch: 1 [40704/100000 (41%)]\tLoss: 0.017285\n",
            "Train Epoch: 1 [40960/100000 (41%)]\tLoss: 0.036282\n",
            "Train Epoch: 1 [41216/100000 (41%)]\tLoss: 0.022536\n",
            "Train Epoch: 1 [41472/100000 (41%)]\tLoss: 0.036498\n",
            "Train Epoch: 1 [41728/100000 (42%)]\tLoss: 0.037563\n",
            "Train Epoch: 1 [41984/100000 (42%)]\tLoss: 0.012613\n",
            "Train Epoch: 1 [42240/100000 (42%)]\tLoss: 0.061421\n",
            "Train Epoch: 1 [42496/100000 (42%)]\tLoss: 0.038205\n",
            "Train Epoch: 1 [42752/100000 (43%)]\tLoss: 0.054517\n",
            "Train Epoch: 1 [43008/100000 (43%)]\tLoss: 0.018388\n",
            "Train Epoch: 1 [43264/100000 (43%)]\tLoss: 0.069698\n",
            "Train Epoch: 1 [43520/100000 (44%)]\tLoss: 0.145859\n",
            "Train Epoch: 1 [43776/100000 (44%)]\tLoss: 0.061339\n",
            "Train Epoch: 1 [44032/100000 (44%)]\tLoss: 0.005221\n",
            "Train Epoch: 1 [44288/100000 (44%)]\tLoss: 0.020375\n",
            "Train Epoch: 1 [44544/100000 (45%)]\tLoss: 0.040406\n",
            "Train Epoch: 1 [44800/100000 (45%)]\tLoss: 0.089930\n",
            "Train Epoch: 1 [45056/100000 (45%)]\tLoss: 0.012881\n",
            "Train Epoch: 1 [45312/100000 (45%)]\tLoss: 0.011640\n",
            "Train Epoch: 1 [45568/100000 (46%)]\tLoss: 0.040330\n",
            "Train Epoch: 1 [45824/100000 (46%)]\tLoss: 0.089400\n",
            "Train Epoch: 1 [46080/100000 (46%)]\tLoss: 0.028080\n",
            "Train Epoch: 1 [46336/100000 (46%)]\tLoss: 0.018238\n",
            "Train Epoch: 1 [46592/100000 (47%)]\tLoss: 0.037758\n",
            "Train Epoch: 1 [46848/100000 (47%)]\tLoss: 0.050317\n",
            "Train Epoch: 1 [47104/100000 (47%)]\tLoss: 0.027907\n",
            "Train Epoch: 1 [47360/100000 (47%)]\tLoss: 0.030202\n",
            "Train Epoch: 1 [47616/100000 (48%)]\tLoss: 0.050439\n",
            "Train Epoch: 1 [47872/100000 (48%)]\tLoss: 0.070493\n",
            "Train Epoch: 1 [48128/100000 (48%)]\tLoss: 0.030914\n",
            "Train Epoch: 1 [48384/100000 (48%)]\tLoss: 0.036575\n",
            "Train Epoch: 1 [48640/100000 (49%)]\tLoss: 0.041798\n",
            "Train Epoch: 1 [48896/100000 (49%)]\tLoss: 0.009270\n",
            "Train Epoch: 1 [49152/100000 (49%)]\tLoss: 0.056819\n",
            "Train Epoch: 1 [49408/100000 (49%)]\tLoss: 0.034064\n",
            "Train Epoch: 1 [49664/100000 (50%)]\tLoss: 0.080976\n",
            "Train Epoch: 1 [49920/100000 (50%)]\tLoss: 0.027712\n",
            "Train Epoch: 1 [50176/100000 (50%)]\tLoss: 0.021973\n",
            "Train Epoch: 1 [50432/100000 (50%)]\tLoss: 0.020964\n",
            "Train Epoch: 1 [50688/100000 (51%)]\tLoss: 0.025543\n",
            "Train Epoch: 1 [50944/100000 (51%)]\tLoss: 0.016979\n",
            "Train Epoch: 1 [51200/100000 (51%)]\tLoss: 0.008837\n",
            "Train Epoch: 1 [51456/100000 (51%)]\tLoss: 0.032810\n",
            "Train Epoch: 1 [51712/100000 (52%)]\tLoss: 0.034047\n",
            "Train Epoch: 1 [51968/100000 (52%)]\tLoss: 0.036139\n",
            "Train Epoch: 1 [52224/100000 (52%)]\tLoss: 0.016211\n",
            "Train Epoch: 1 [52480/100000 (52%)]\tLoss: 0.070165\n",
            "Train Epoch: 1 [52736/100000 (53%)]\tLoss: 0.032351\n",
            "Train Epoch: 1 [52992/100000 (53%)]\tLoss: 0.020135\n",
            "Train Epoch: 1 [53248/100000 (53%)]\tLoss: 0.066981\n",
            "Train Epoch: 1 [53504/100000 (54%)]\tLoss: 0.018785\n",
            "Train Epoch: 1 [53760/100000 (54%)]\tLoss: 0.045905\n",
            "Train Epoch: 1 [54016/100000 (54%)]\tLoss: 0.032438\n",
            "Train Epoch: 1 [54272/100000 (54%)]\tLoss: 0.037608\n",
            "Train Epoch: 1 [54528/100000 (55%)]\tLoss: 0.010123\n",
            "Train Epoch: 1 [54784/100000 (55%)]\tLoss: 0.023197\n",
            "Train Epoch: 1 [55040/100000 (55%)]\tLoss: 0.011073\n",
            "Train Epoch: 1 [55296/100000 (55%)]\tLoss: 0.032509\n",
            "Train Epoch: 1 [55552/100000 (56%)]\tLoss: 0.041836\n",
            "Train Epoch: 1 [55808/100000 (56%)]\tLoss: 0.009764\n",
            "Train Epoch: 1 [56064/100000 (56%)]\tLoss: 0.013537\n",
            "Train Epoch: 1 [56320/100000 (56%)]\tLoss: 0.013708\n",
            "Train Epoch: 1 [56576/100000 (57%)]\tLoss: 0.004951\n",
            "Train Epoch: 1 [56832/100000 (57%)]\tLoss: 0.039341\n",
            "Train Epoch: 1 [57088/100000 (57%)]\tLoss: 0.034193\n",
            "Train Epoch: 1 [57344/100000 (57%)]\tLoss: 0.038556\n",
            "Train Epoch: 1 [57600/100000 (58%)]\tLoss: 0.063626\n",
            "Train Epoch: 1 [57856/100000 (58%)]\tLoss: 0.007189\n",
            "Train Epoch: 1 [58112/100000 (58%)]\tLoss: 0.023250\n",
            "Train Epoch: 1 [58368/100000 (58%)]\tLoss: 0.024828\n",
            "Train Epoch: 1 [58624/100000 (59%)]\tLoss: 0.062782\n",
            "Train Epoch: 1 [58880/100000 (59%)]\tLoss: 0.013381\n",
            "Train Epoch: 1 [59136/100000 (59%)]\tLoss: 0.012866\n",
            "Train Epoch: 1 [59392/100000 (59%)]\tLoss: 0.095212\n",
            "Train Epoch: 1 [59648/100000 (60%)]\tLoss: 0.005647\n",
            "Train Epoch: 1 [59904/100000 (60%)]\tLoss: 0.031828\n",
            "Train Epoch: 1 [60160/100000 (60%)]\tLoss: 0.020580\n",
            "Train Epoch: 1 [60416/100000 (60%)]\tLoss: 0.069962\n",
            "Train Epoch: 1 [60672/100000 (61%)]\tLoss: 0.018449\n",
            "Train Epoch: 1 [60928/100000 (61%)]\tLoss: 0.013474\n",
            "Train Epoch: 1 [61184/100000 (61%)]\tLoss: 0.014941\n",
            "Train Epoch: 1 [61440/100000 (61%)]\tLoss: 0.015013\n",
            "Train Epoch: 1 [61696/100000 (62%)]\tLoss: 0.014241\n",
            "Train Epoch: 1 [61952/100000 (62%)]\tLoss: 0.005305\n",
            "Train Epoch: 1 [62208/100000 (62%)]\tLoss: 0.031335\n",
            "Train Epoch: 1 [62464/100000 (62%)]\tLoss: 0.018569\n",
            "Train Epoch: 1 [62720/100000 (63%)]\tLoss: 0.020109\n",
            "Train Epoch: 1 [62976/100000 (63%)]\tLoss: 0.022610\n",
            "Train Epoch: 1 [63232/100000 (63%)]\tLoss: 0.016638\n",
            "Train Epoch: 1 [63488/100000 (63%)]\tLoss: 0.011187\n",
            "Train Epoch: 1 [63744/100000 (64%)]\tLoss: 0.017645\n",
            "Train Epoch: 1 [64000/100000 (64%)]\tLoss: 0.029627\n",
            "Train Epoch: 1 [64256/100000 (64%)]\tLoss: 0.017356\n",
            "Train Epoch: 1 [64512/100000 (65%)]\tLoss: 0.026664\n",
            "Train Epoch: 1 [64768/100000 (65%)]\tLoss: 0.007750\n",
            "Train Epoch: 1 [65024/100000 (65%)]\tLoss: 0.074639\n",
            "Train Epoch: 1 [65280/100000 (65%)]\tLoss: 0.020408\n",
            "Train Epoch: 1 [65536/100000 (66%)]\tLoss: 0.021974\n",
            "Train Epoch: 1 [65792/100000 (66%)]\tLoss: 0.011766\n",
            "Train Epoch: 1 [66048/100000 (66%)]\tLoss: 0.045906\n",
            "Train Epoch: 1 [66304/100000 (66%)]\tLoss: 0.053393\n",
            "Train Epoch: 1 [66560/100000 (67%)]\tLoss: 0.059773\n",
            "Train Epoch: 1 [66816/100000 (67%)]\tLoss: 0.029160\n",
            "Train Epoch: 1 [67072/100000 (67%)]\tLoss: 0.045790\n",
            "Train Epoch: 1 [67328/100000 (67%)]\tLoss: 0.007394\n",
            "Train Epoch: 1 [67584/100000 (68%)]\tLoss: 0.033576\n",
            "Train Epoch: 1 [67840/100000 (68%)]\tLoss: 0.053776\n",
            "Train Epoch: 1 [68096/100000 (68%)]\tLoss: 0.075778\n",
            "Train Epoch: 1 [68352/100000 (68%)]\tLoss: 0.035035\n",
            "Train Epoch: 1 [68608/100000 (69%)]\tLoss: 0.037157\n",
            "Train Epoch: 1 [68864/100000 (69%)]\tLoss: 0.078306\n",
            "Train Epoch: 1 [69120/100000 (69%)]\tLoss: 0.056417\n",
            "Train Epoch: 1 [69376/100000 (69%)]\tLoss: 0.033735\n",
            "Train Epoch: 1 [69632/100000 (70%)]\tLoss: 0.024112\n",
            "Train Epoch: 1 [69888/100000 (70%)]\tLoss: 0.050534\n",
            "Train Epoch: 1 [70144/100000 (70%)]\tLoss: 0.020801\n",
            "Train Epoch: 1 [70400/100000 (70%)]\tLoss: 0.010039\n",
            "Train Epoch: 1 [70656/100000 (71%)]\tLoss: 0.026621\n",
            "Train Epoch: 1 [70912/100000 (71%)]\tLoss: 0.021246\n",
            "Train Epoch: 1 [71168/100000 (71%)]\tLoss: 0.059407\n",
            "Train Epoch: 1 [71424/100000 (71%)]\tLoss: 0.039758\n",
            "Train Epoch: 1 [71680/100000 (72%)]\tLoss: 0.044924\n",
            "Train Epoch: 1 [71936/100000 (72%)]\tLoss: 0.050173\n",
            "Train Epoch: 1 [72192/100000 (72%)]\tLoss: 0.028201\n",
            "Train Epoch: 1 [72448/100000 (72%)]\tLoss: 0.037906\n",
            "Train Epoch: 1 [72704/100000 (73%)]\tLoss: 0.052809\n",
            "Train Epoch: 1 [72960/100000 (73%)]\tLoss: 0.004040\n",
            "Train Epoch: 1 [73216/100000 (73%)]\tLoss: 0.030681\n",
            "Train Epoch: 1 [73472/100000 (73%)]\tLoss: 0.037773\n",
            "Train Epoch: 1 [73728/100000 (74%)]\tLoss: 0.081975\n",
            "Train Epoch: 1 [73984/100000 (74%)]\tLoss: 0.017557\n",
            "Train Epoch: 1 [74240/100000 (74%)]\tLoss: 0.054953\n",
            "Train Epoch: 1 [74496/100000 (74%)]\tLoss: 0.013193\n",
            "Train Epoch: 1 [74752/100000 (75%)]\tLoss: 0.037837\n",
            "Train Epoch: 1 [75008/100000 (75%)]\tLoss: 0.048149\n",
            "Train Epoch: 1 [75264/100000 (75%)]\tLoss: 0.051922\n",
            "Train Epoch: 1 [75520/100000 (76%)]\tLoss: 0.041115\n",
            "Train Epoch: 1 [75776/100000 (76%)]\tLoss: 0.083020\n",
            "Train Epoch: 1 [76032/100000 (76%)]\tLoss: 0.049500\n",
            "Train Epoch: 1 [76288/100000 (76%)]\tLoss: 0.068711\n",
            "Train Epoch: 1 [76544/100000 (77%)]\tLoss: 0.049881\n",
            "Train Epoch: 1 [76800/100000 (77%)]\tLoss: 0.063144\n",
            "Train Epoch: 1 [77056/100000 (77%)]\tLoss: 0.045313\n",
            "Train Epoch: 1 [77312/100000 (77%)]\tLoss: 0.035613\n",
            "Train Epoch: 1 [77568/100000 (78%)]\tLoss: 0.008026\n",
            "Train Epoch: 1 [77824/100000 (78%)]\tLoss: 0.026194\n",
            "Train Epoch: 1 [78080/100000 (78%)]\tLoss: 0.051953\n",
            "Train Epoch: 1 [78336/100000 (78%)]\tLoss: 0.034109\n",
            "Train Epoch: 1 [78592/100000 (79%)]\tLoss: 0.074850\n",
            "Train Epoch: 1 [78848/100000 (79%)]\tLoss: 0.025554\n",
            "Train Epoch: 1 [79104/100000 (79%)]\tLoss: 0.013711\n",
            "Train Epoch: 1 [79360/100000 (79%)]\tLoss: 0.017347\n",
            "Train Epoch: 1 [79616/100000 (80%)]\tLoss: 0.043425\n",
            "Train Epoch: 1 [79872/100000 (80%)]\tLoss: 0.025670\n",
            "Train Epoch: 1 [80128/100000 (80%)]\tLoss: 0.026214\n",
            "Train Epoch: 1 [80384/100000 (80%)]\tLoss: 0.011285\n",
            "Train Epoch: 1 [80640/100000 (81%)]\tLoss: 0.020732\n",
            "Train Epoch: 1 [80896/100000 (81%)]\tLoss: 0.041350\n",
            "Train Epoch: 1 [81152/100000 (81%)]\tLoss: 0.009350\n",
            "Train Epoch: 1 [81408/100000 (81%)]\tLoss: 0.026170\n",
            "Train Epoch: 1 [81664/100000 (82%)]\tLoss: 0.010262\n",
            "Train Epoch: 1 [81920/100000 (82%)]\tLoss: 0.053945\n",
            "Train Epoch: 1 [82176/100000 (82%)]\tLoss: 0.082853\n",
            "Train Epoch: 1 [82432/100000 (82%)]\tLoss: 0.048996\n",
            "Train Epoch: 1 [82688/100000 (83%)]\tLoss: 0.032287\n",
            "Train Epoch: 1 [82944/100000 (83%)]\tLoss: 0.050579\n",
            "Train Epoch: 1 [83200/100000 (83%)]\tLoss: 0.012224\n",
            "Train Epoch: 1 [83456/100000 (83%)]\tLoss: 0.050388\n",
            "Train Epoch: 1 [83712/100000 (84%)]\tLoss: 0.023533\n",
            "Train Epoch: 1 [83968/100000 (84%)]\tLoss: 0.052031\n",
            "Train Epoch: 1 [84224/100000 (84%)]\tLoss: 0.008841\n",
            "Train Epoch: 1 [84480/100000 (84%)]\tLoss: 0.044950\n",
            "Train Epoch: 1 [84736/100000 (85%)]\tLoss: 0.060987\n",
            "Train Epoch: 1 [84992/100000 (85%)]\tLoss: 0.055234\n",
            "Train Epoch: 1 [85248/100000 (85%)]\tLoss: 0.016244\n",
            "Train Epoch: 1 [85504/100000 (86%)]\tLoss: 0.009145\n",
            "Train Epoch: 1 [85760/100000 (86%)]\tLoss: 0.023298\n",
            "Train Epoch: 1 [86016/100000 (86%)]\tLoss: 0.003005\n",
            "Train Epoch: 1 [86272/100000 (86%)]\tLoss: 0.031471\n",
            "Train Epoch: 1 [86528/100000 (87%)]\tLoss: 0.030459\n",
            "Train Epoch: 1 [86784/100000 (87%)]\tLoss: 0.007032\n",
            "Train Epoch: 1 [87040/100000 (87%)]\tLoss: 0.023597\n",
            "Train Epoch: 1 [87296/100000 (87%)]\tLoss: 0.032155\n",
            "Train Epoch: 1 [87552/100000 (88%)]\tLoss: 0.055461\n",
            "Train Epoch: 1 [87808/100000 (88%)]\tLoss: 0.035906\n",
            "Train Epoch: 1 [88064/100000 (88%)]\tLoss: 0.056919\n",
            "Train Epoch: 1 [88320/100000 (88%)]\tLoss: 0.021922\n",
            "Train Epoch: 1 [88576/100000 (89%)]\tLoss: 0.024034\n",
            "Train Epoch: 1 [88832/100000 (89%)]\tLoss: 0.002089\n",
            "Train Epoch: 1 [89088/100000 (89%)]\tLoss: 0.021754\n",
            "Train Epoch: 1 [89344/100000 (89%)]\tLoss: 0.036330\n",
            "Train Epoch: 1 [89600/100000 (90%)]\tLoss: 0.014479\n",
            "Train Epoch: 1 [89856/100000 (90%)]\tLoss: 0.017902\n",
            "Train Epoch: 1 [90112/100000 (90%)]\tLoss: 0.040908\n",
            "Train Epoch: 1 [90368/100000 (90%)]\tLoss: 0.078395\n",
            "Train Epoch: 1 [90624/100000 (91%)]\tLoss: 0.023345\n",
            "Train Epoch: 1 [90880/100000 (91%)]\tLoss: 0.036517\n",
            "Train Epoch: 1 [91136/100000 (91%)]\tLoss: 0.015604\n",
            "Train Epoch: 1 [91392/100000 (91%)]\tLoss: 0.024316\n",
            "Train Epoch: 1 [91648/100000 (92%)]\tLoss: 0.077905\n",
            "Train Epoch: 1 [91904/100000 (92%)]\tLoss: 0.015359\n",
            "Train Epoch: 1 [92160/100000 (92%)]\tLoss: 0.024457\n",
            "Train Epoch: 1 [92416/100000 (92%)]\tLoss: 0.018406\n",
            "Train Epoch: 1 [92672/100000 (93%)]\tLoss: 0.025982\n",
            "Train Epoch: 1 [92928/100000 (93%)]\tLoss: 0.017064\n",
            "Train Epoch: 1 [93184/100000 (93%)]\tLoss: 0.068695\n",
            "Train Epoch: 1 [93440/100000 (93%)]\tLoss: 0.052563\n",
            "Train Epoch: 1 [93696/100000 (94%)]\tLoss: 0.008940\n",
            "Train Epoch: 1 [93952/100000 (94%)]\tLoss: 0.019186\n",
            "Train Epoch: 1 [94208/100000 (94%)]\tLoss: 0.063194\n",
            "Train Epoch: 1 [94464/100000 (94%)]\tLoss: 0.044837\n",
            "Train Epoch: 1 [94720/100000 (95%)]\tLoss: 0.062188\n",
            "Train Epoch: 1 [94976/100000 (95%)]\tLoss: 0.090654\n",
            "Train Epoch: 1 [95232/100000 (95%)]\tLoss: 0.008930\n",
            "Train Epoch: 1 [95488/100000 (95%)]\tLoss: 0.023384\n",
            "Train Epoch: 1 [95744/100000 (96%)]\tLoss: 0.030179\n",
            "Train Epoch: 1 [96000/100000 (96%)]\tLoss: 0.028649\n",
            "Train Epoch: 1 [96256/100000 (96%)]\tLoss: 0.069958\n",
            "Train Epoch: 1 [96512/100000 (97%)]\tLoss: 0.056501\n",
            "Train Epoch: 1 [96768/100000 (97%)]\tLoss: 0.022187\n",
            "Train Epoch: 1 [97024/100000 (97%)]\tLoss: 0.021868\n",
            "Train Epoch: 1 [97280/100000 (97%)]\tLoss: 0.056194\n",
            "Train Epoch: 1 [97536/100000 (98%)]\tLoss: 0.035438\n",
            "Train Epoch: 1 [97792/100000 (98%)]\tLoss: 0.056429\n",
            "Train Epoch: 1 [98048/100000 (98%)]\tLoss: 0.036910\n",
            "Train Epoch: 1 [98304/100000 (98%)]\tLoss: 0.061956\n",
            "Train Epoch: 1 [98560/100000 (99%)]\tLoss: 0.008171\n",
            "Train Epoch: 1 [98816/100000 (99%)]\tLoss: 0.025808\n",
            "Train Epoch: 1 [99072/100000 (99%)]\tLoss: 0.014738\n",
            "Train Epoch: 1 [99328/100000 (99%)]\tLoss: 0.076339\n",
            "Train Epoch: 1 [99584/100000 (100%)]\tLoss: 0.039210\n",
            "Train Epoch: 1 [99840/100000 (100%)]\tLoss: 0.023460\n",
            "Train Epoch: 1 [100000/100000 (100%)]\tLoss: 0.040045\n",
            "\n",
            "Test set: Average loss: 0.0182, Accuracy: 9946/10000 (99.46%)\n",
            "\n"
          ],
          "name": "stdout"
        }
      ]
    },
    {
      "cell_type": "code",
      "metadata": {
        "id": "liiMl6mweFN7",
        "colab": {
          "base_uri": "https://localhost:8080/"
        },
        "outputId": "29d49b79-6760-453f-cfa0-2276ed73fa7d"
      },
      "source": [
        "# Retireve Testset Results\n",
        "_, wrongx, wrongy, truey = test(myModel, device, test_dataloader, nn.CrossEntropyLoss(reduction='sum'))"
      ],
      "execution_count": 18,
      "outputs": [
        {
          "output_type": "stream",
          "text": [
            "\n",
            "Test set: Average loss: 0.0193, Accuracy: 9940/10000 (99.40%)\n",
            "\n"
          ],
          "name": "stdout"
        }
      ]
    },
    {
      "cell_type": "code",
      "metadata": {
        "id": "7RjpNWvYeE_o",
        "colab": {
          "base_uri": "https://localhost:8080/",
          "height": 275
        },
        "outputId": "8dd47b81-60b3-485b-ea62-c42b23789289"
      },
      "source": [
        "# Check Images That Were Classified Wrong\n",
        "index = np.random.randint(0, len(wrongx))\n",
        "ima = wrongx.cpu().numpy()[index][0].astype(np.uint8)\n",
        "im = Image.fromarray(ima)\n",
        "display(im)\n",
        "print('predicted label:',wrongy.cpu().numpy()[index][0])\n",
        "print('true label:     ',truey.cpu().numpy()[index])"
      ],
      "execution_count": 22,
      "outputs": [
        {
          "output_type": "display_data",
          "data": {
            "image/png": "[encoded data removed]",
            "text/plain": [
              "<PIL.Image.Image image mode=L size=224x224 at 0x7FA0EB486450>"
            ]
          },
          "metadata": {
            "tags": []
          }
        },
        {
          "output_type": "stream",
          "text": [
            "predicted label: 3\n",
            "true label:      5\n"
          ],
          "name": "stdout"
        }
      ]
    },
    {
      "cell_type": "code",
      "metadata": {
        "id": "oHRgBIzwH0Qb"
      },
      "source": [
        "torch.save(myModel.state_dict(), 'checkpoint.pt')"
      ],
      "execution_count": 19,
      "outputs": []
    },
    {
      "cell_type": "code",
      "metadata": {
        "id": "6FgwqZpa0x20"
      },
      "source": [
        "'''\n",
        "PARAMETERS of Best Result\n",
        "\n",
        "MODEL: RESNET18(conv1-1x224x224) + LINEAR\n",
        "DATASET: mnist_train_double\n",
        "DEGREE = 15\n",
        "BATCH_SIZE = 256\n",
        "EPOCH = 3\n",
        "Accuracy = 99.53%\n",
        "'''"
      ],
      "execution_count": null,
      "outputs": []
    }
  ]
}